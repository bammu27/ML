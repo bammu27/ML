{
 "cells": [
  {
   "cell_type": "code",
   "execution_count": 1,
   "id": "4389acc1-4859-488c-b670-c473878711bf",
   "metadata": {},
   "outputs": [],
   "source": [
    "import pandas as pd\n",
    "import numpy as np\n",
    "import seaborn as sn\n",
    "from sklearn.ensemble import  RandomForestClassifier\n",
    "import matplotlib.pyplot as plt"
   ]
  },
  {
   "cell_type": "code",
   "execution_count": 2,
   "id": "fd37dcb3-9b62-4480-8ab5-ec5fe42ed2ec",
   "metadata": {},
   "outputs": [],
   "source": [
    "df = pd.read_csv('mnist_train.csv')"
   ]
  },
  {
   "cell_type": "code",
   "execution_count": 3,
   "id": "475d4d32-4741-4cf8-9a8a-71e36afbc4bf",
   "metadata": {},
   "outputs": [
    {
     "data": {
      "text/html": [
       "<div>\n",
       "<style scoped>\n",
       "    .dataframe tbody tr th:only-of-type {\n",
       "        vertical-align: middle;\n",
       "    }\n",
       "\n",
       "    .dataframe tbody tr th {\n",
       "        vertical-align: top;\n",
       "    }\n",
       "\n",
       "    .dataframe thead th {\n",
       "        text-align: right;\n",
       "    }\n",
       "</style>\n",
       "<table border=\"1\" class=\"dataframe\">\n",
       "  <thead>\n",
       "    <tr style=\"text-align: right;\">\n",
       "      <th></th>\n",
       "      <th>label</th>\n",
       "      <th>1x1</th>\n",
       "      <th>1x2</th>\n",
       "      <th>1x3</th>\n",
       "      <th>1x4</th>\n",
       "      <th>1x5</th>\n",
       "      <th>1x6</th>\n",
       "      <th>1x7</th>\n",
       "      <th>1x8</th>\n",
       "      <th>1x9</th>\n",
       "      <th>...</th>\n",
       "      <th>28x19</th>\n",
       "      <th>28x20</th>\n",
       "      <th>28x21</th>\n",
       "      <th>28x22</th>\n",
       "      <th>28x23</th>\n",
       "      <th>28x24</th>\n",
       "      <th>28x25</th>\n",
       "      <th>28x26</th>\n",
       "      <th>28x27</th>\n",
       "      <th>28x28</th>\n",
       "    </tr>\n",
       "  </thead>\n",
       "  <tbody>\n",
       "    <tr>\n",
       "      <th>0</th>\n",
       "      <td>5</td>\n",
       "      <td>0</td>\n",
       "      <td>0</td>\n",
       "      <td>0</td>\n",
       "      <td>0</td>\n",
       "      <td>0</td>\n",
       "      <td>0</td>\n",
       "      <td>0</td>\n",
       "      <td>0</td>\n",
       "      <td>0</td>\n",
       "      <td>...</td>\n",
       "      <td>0</td>\n",
       "      <td>0</td>\n",
       "      <td>0</td>\n",
       "      <td>0</td>\n",
       "      <td>0</td>\n",
       "      <td>0</td>\n",
       "      <td>0</td>\n",
       "      <td>0</td>\n",
       "      <td>0</td>\n",
       "      <td>0</td>\n",
       "    </tr>\n",
       "    <tr>\n",
       "      <th>1</th>\n",
       "      <td>0</td>\n",
       "      <td>0</td>\n",
       "      <td>0</td>\n",
       "      <td>0</td>\n",
       "      <td>0</td>\n",
       "      <td>0</td>\n",
       "      <td>0</td>\n",
       "      <td>0</td>\n",
       "      <td>0</td>\n",
       "      <td>0</td>\n",
       "      <td>...</td>\n",
       "      <td>0</td>\n",
       "      <td>0</td>\n",
       "      <td>0</td>\n",
       "      <td>0</td>\n",
       "      <td>0</td>\n",
       "      <td>0</td>\n",
       "      <td>0</td>\n",
       "      <td>0</td>\n",
       "      <td>0</td>\n",
       "      <td>0</td>\n",
       "    </tr>\n",
       "    <tr>\n",
       "      <th>2</th>\n",
       "      <td>4</td>\n",
       "      <td>0</td>\n",
       "      <td>0</td>\n",
       "      <td>0</td>\n",
       "      <td>0</td>\n",
       "      <td>0</td>\n",
       "      <td>0</td>\n",
       "      <td>0</td>\n",
       "      <td>0</td>\n",
       "      <td>0</td>\n",
       "      <td>...</td>\n",
       "      <td>0</td>\n",
       "      <td>0</td>\n",
       "      <td>0</td>\n",
       "      <td>0</td>\n",
       "      <td>0</td>\n",
       "      <td>0</td>\n",
       "      <td>0</td>\n",
       "      <td>0</td>\n",
       "      <td>0</td>\n",
       "      <td>0</td>\n",
       "    </tr>\n",
       "    <tr>\n",
       "      <th>3</th>\n",
       "      <td>1</td>\n",
       "      <td>0</td>\n",
       "      <td>0</td>\n",
       "      <td>0</td>\n",
       "      <td>0</td>\n",
       "      <td>0</td>\n",
       "      <td>0</td>\n",
       "      <td>0</td>\n",
       "      <td>0</td>\n",
       "      <td>0</td>\n",
       "      <td>...</td>\n",
       "      <td>0</td>\n",
       "      <td>0</td>\n",
       "      <td>0</td>\n",
       "      <td>0</td>\n",
       "      <td>0</td>\n",
       "      <td>0</td>\n",
       "      <td>0</td>\n",
       "      <td>0</td>\n",
       "      <td>0</td>\n",
       "      <td>0</td>\n",
       "    </tr>\n",
       "    <tr>\n",
       "      <th>4</th>\n",
       "      <td>9</td>\n",
       "      <td>0</td>\n",
       "      <td>0</td>\n",
       "      <td>0</td>\n",
       "      <td>0</td>\n",
       "      <td>0</td>\n",
       "      <td>0</td>\n",
       "      <td>0</td>\n",
       "      <td>0</td>\n",
       "      <td>0</td>\n",
       "      <td>...</td>\n",
       "      <td>0</td>\n",
       "      <td>0</td>\n",
       "      <td>0</td>\n",
       "      <td>0</td>\n",
       "      <td>0</td>\n",
       "      <td>0</td>\n",
       "      <td>0</td>\n",
       "      <td>0</td>\n",
       "      <td>0</td>\n",
       "      <td>0</td>\n",
       "    </tr>\n",
       "  </tbody>\n",
       "</table>\n",
       "<p>5 rows × 785 columns</p>\n",
       "</div>"
      ],
      "text/plain": [
       "   label  1x1  1x2  1x3  1x4  1x5  1x6  1x7  1x8  1x9  ...  28x19  28x20  \\\n",
       "0      5    0    0    0    0    0    0    0    0    0  ...      0      0   \n",
       "1      0    0    0    0    0    0    0    0    0    0  ...      0      0   \n",
       "2      4    0    0    0    0    0    0    0    0    0  ...      0      0   \n",
       "3      1    0    0    0    0    0    0    0    0    0  ...      0      0   \n",
       "4      9    0    0    0    0    0    0    0    0    0  ...      0      0   \n",
       "\n",
       "   28x21  28x22  28x23  28x24  28x25  28x26  28x27  28x28  \n",
       "0      0      0      0      0      0      0      0      0  \n",
       "1      0      0      0      0      0      0      0      0  \n",
       "2      0      0      0      0      0      0      0      0  \n",
       "3      0      0      0      0      0      0      0      0  \n",
       "4      0      0      0      0      0      0      0      0  \n",
       "\n",
       "[5 rows x 785 columns]"
      ]
     },
     "execution_count": 3,
     "metadata": {},
     "output_type": "execute_result"
    }
   ],
   "source": [
    "df.head()\n"
   ]
  },
  {
   "cell_type": "code",
   "execution_count": 4,
   "id": "d95206d2-742d-4ade-b198-2d8946b7f567",
   "metadata": {},
   "outputs": [
    {
     "data": {
      "text/plain": [
       "array([5, 0, 4, ..., 5, 6, 8], dtype=int64)"
      ]
     },
     "execution_count": 4,
     "metadata": {},
     "output_type": "execute_result"
    }
   ],
   "source": [
    "x = df.iloc[:,1:].values\n",
    "y = df.iloc[:,0].values\n",
    "y\n"
   ]
  },
  {
   "cell_type": "code",
   "execution_count": 5,
   "id": "8a5650fb-9d7b-4e38-b207-d50da0720f63",
   "metadata": {},
   "outputs": [
    {
     "data": {
      "image/png": "[encoded data removed]",
      "text/plain": [
       "<Figure size 640x480 with 1 Axes>"
      ]
     },
     "metadata": {},
     "output_type": "display_data"
    }
   ],
   "source": [
    "#image \n",
    "digit = x[1,:].reshape(28,28)\n",
    "plt.imshow(digit, cmap='gray')\n",
    "plt.title(' Digit')\n",
    "plt.show()\n"
   ]
  },
  {
   "cell_type": "code",
   "execution_count": 6,
   "id": "8ad350ff-fbdd-4609-897d-4d080388d83b",
   "metadata": {},
   "outputs": [
    {
     "data": {
      "image/png": "[encoded data removed]",
      "text/plain": [
       "<Figure size 1000x500 with 1 Axes>"
      ]
     },
     "metadata": {},
     "output_type": "display_data"
    }
   ],
   "source": [
    "cdigit = x[2,:].reshape(28,28)\n",
    "plt.figure(figsize=(10, 5))\n",
    "sn.heatmap(cdigit, cmap='viridis', annot=False, cbar=False, square=True)\n",
    "plt.title('Colorful Digit Image - Seaborn Heatmap')\n",
    "plt.show()"
   ]
  },
  {
   "cell_type": "code",
   "execution_count": 7,
   "id": "3dabb5d2-4b1d-409f-b768-b024c3c34496",
   "metadata": {},
   "outputs": [
    {
     "data": {
      "text/html": [
       "<style>#sk-container-id-1 {color: black;}#sk-container-id-1 pre{padding: 0;}#sk-container-id-1 div.sk-toggleable {background-color: white;}#sk-container-id-1 label.sk-toggleable__label {cursor: pointer;display: block;width: 100%;margin-bottom: 0;padding: 0.3em;box-sizing: border-box;text-align: center;}#sk-container-id-1 label.sk-toggleable__label-arrow:before {content: \"▸\";float: left;margin-right: 0.25em;color: #696969;}#sk-container-id-1 label.sk-toggleable__label-arrow:hover:before {color: black;}#sk-container-id-1 div.sk-estimator:hover label.sk-toggleable__label-arrow:before {color: black;}#sk-container-id-1 div.sk-toggleable__content {max-height: 0;max-width: 0;overflow: hidden;text-align: left;background-color: #f0f8ff;}#sk-container-id-1 div.sk-toggleable__content pre {margin: 0.2em;color: black;border-radius: 0.25em;background-color: #f0f8ff;}#sk-container-id-1 input.sk-toggleable__control:checked~div.sk-toggleable__content {max-height: 200px;max-width: 100%;overflow: auto;}#sk-container-id-1 input.sk-toggleable__control:checked~label.sk-toggleable__label-arrow:before {content: \"▾\";}#sk-container-id-1 div.sk-estimator input.sk-toggleable__control:checked~label.sk-toggleable__label {background-color: #d4ebff;}#sk-container-id-1 div.sk-label input.sk-toggleable__control:checked~label.sk-toggleable__label {background-color: #d4ebff;}#sk-container-id-1 input.sk-hidden--visually {border: 0;clip: rect(1px 1px 1px 1px);clip: rect(1px, 1px, 1px, 1px);height: 1px;margin: -1px;overflow: hidden;padding: 0;position: absolute;width: 1px;}#sk-container-id-1 div.sk-estimator {font-family: monospace;background-color: #f0f8ff;border: 1px dotted black;border-radius: 0.25em;box-sizing: border-box;margin-bottom: 0.5em;}#sk-container-id-1 div.sk-estimator:hover {background-color: #d4ebff;}#sk-container-id-1 div.sk-parallel-item::after {content: \"\";width: 100%;border-bottom: 1px solid gray;flex-grow: 1;}#sk-container-id-1 div.sk-label:hover label.sk-toggleable__label {background-color: #d4ebff;}#sk-container-id-1 div.sk-serial::before {content: \"\";position: absolute;border-left: 1px solid gray;box-sizing: border-box;top: 0;bottom: 0;left: 50%;z-index: 0;}#sk-container-id-1 div.sk-serial {display: flex;flex-direction: column;align-items: center;background-color: white;padding-right: 0.2em;padding-left: 0.2em;position: relative;}#sk-container-id-1 div.sk-item {position: relative;z-index: 1;}#sk-container-id-1 div.sk-parallel {display: flex;align-items: stretch;justify-content: center;background-color: white;position: relative;}#sk-container-id-1 div.sk-item::before, #sk-container-id-1 div.sk-parallel-item::before {content: \"\";position: absolute;border-left: 1px solid gray;box-sizing: border-box;top: 0;bottom: 0;left: 50%;z-index: -1;}#sk-container-id-1 div.sk-parallel-item {display: flex;flex-direction: column;z-index: 1;position: relative;background-color: white;}#sk-container-id-1 div.sk-parallel-item:first-child::after {align-self: flex-end;width: 50%;}#sk-container-id-1 div.sk-parallel-item:last-child::after {align-self: flex-start;width: 50%;}#sk-container-id-1 div.sk-parallel-item:only-child::after {width: 0;}#sk-container-id-1 div.sk-dashed-wrapped {border: 1px dashed gray;margin: 0 0.4em 0.5em 0.4em;box-sizing: border-box;padding-bottom: 0.4em;background-color: white;}#sk-container-id-1 div.sk-label label {font-family: monospace;font-weight: bold;display: inline-block;line-height: 1.2em;}#sk-container-id-1 div.sk-label-container {text-align: center;}#sk-container-id-1 div.sk-container {/* jupyter's `normalize.less` sets `[hidden] { display: none; }` but bootstrap.min.css set `[hidden] { display: none !important; }` so we also need the `!important` here to be able to override the default hidden behavior on the sphinx rendered scikit-learn.org. See: https://github.com/scikit-learn/scikit-learn/issues/21755 */display: inline-block !important;position: relative;}#sk-container-id-1 div.sk-text-repr-fallback {display: none;}</style><div id=\"sk-container-id-1\" class=\"sk-top-container\"><div class=\"sk-text-repr-fallback\"><pre>RandomForestClassifier()</pre><b>In a Jupyter environment, please rerun this cell to show the HTML representation or trust the notebook. <br />On GitHub, the HTML representation is unable to render, please try loading this page with nbviewer.org.</b></div><div class=\"sk-container\" hidden><div class=\"sk-item\"><div class=\"sk-estimator sk-toggleable\"><input class=\"sk-toggleable__control sk-hidden--visually\" id=\"sk-estimator-id-1\" type=\"checkbox\" checked><label for=\"sk-estimator-id-1\" class=\"sk-toggleable__label sk-toggleable__label-arrow\">RandomForestClassifier</label><div class=\"sk-toggleable__content\"><pre>RandomForestClassifier()</pre></div></div></div></div></div>"
      ],
      "text/plain": [
       "RandomForestClassifier()"
      ]
     },
     "execution_count": 7,
     "metadata": {},
     "output_type": "execute_result"
    }
   ],
   "source": [
    "#feature importance\n",
    "\n",
    "rf = RandomForestClassifier()\n",
    "rf.fit(x,y)\n",
    "rf\n",
    "\n"
   ]
  },
  {
   "cell_type": "code",
   "execution_count": 8,
   "id": "5f8362ca-f842-4ef9-854a-e1a77a70ae01",
   "metadata": {},
   "outputs": [
    {
     "data": {
      "text/plain": [
       "array([0.00000000e+00, 0.00000000e+00, 0.00000000e+00, 0.00000000e+00,\n",
       "       0.00000000e+00, 0.00000000e+00, 0.00000000e+00, 0.00000000e+00,\n",
       "       0.00000000e+00, 0.00000000e+00, 0.00000000e+00, 0.00000000e+00,\n",
       "       0.00000000e+00, 0.00000000e+00, 0.00000000e+00, 3.67797073e-07,\n",
       "       0.00000000e+00, 0.00000000e+00, 0.00000000e+00, 0.00000000e+00,\n",
       "       0.00000000e+00, 0.00000000e+00, 0.00000000e+00, 0.00000000e+00,\n",
       "       0.00000000e+00, 0.00000000e+00, 0.00000000e+00, 0.00000000e+00,\n",
       "       0.00000000e+00, 0.00000000e+00, 0.00000000e+00, 0.00000000e+00,\n",
       "       0.00000000e+00, 0.00000000e+00, 7.12398324e-07, 3.51023900e-07,\n",
       "       2.64468583e-06, 2.14649965e-06, 5.57721362e-06, 7.19603084e-07,\n",
       "       8.82188985e-07, 3.99530548e-06, 2.40580667e-06, 4.09409540e-06,\n",
       "       6.68435830e-06, 3.45620925e-06, 5.45660355e-07, 1.41460338e-06,\n",
       "       1.60498724e-06, 7.21135085e-07, 7.19450001e-07, 7.33558881e-07,\n",
       "       0.00000000e+00, 0.00000000e+00, 0.00000000e+00, 0.00000000e+00,\n",
       "       0.00000000e+00, 0.00000000e+00, 0.00000000e+00, 0.00000000e+00,\n",
       "       0.00000000e+00, 0.00000000e+00, 1.42535416e-06, 8.56642272e-06,\n",
       "       1.64430945e-05, 1.37264607e-05, 3.87755090e-05, 1.18566484e-04,\n",
       "       3.30028214e-04, 8.82877546e-05, 2.16423896e-04, 2.98194897e-04,\n",
       "       2.81018273e-04, 5.63096318e-05, 1.06741531e-04, 4.98367179e-05,\n",
       "       2.41985949e-05, 1.09806597e-05, 5.35968495e-06, 1.93044382e-06,\n",
       "       1.01476287e-06, 0.00000000e+00, 0.00000000e+00, 0.00000000e+00,\n",
       "       0.00000000e+00, 0.00000000e+00, 0.00000000e+00, 0.00000000e+00,\n",
       "       4.15721663e-06, 1.89018185e-06, 1.07251688e-05, 2.24473749e-05,\n",
       "       9.78616017e-05, 1.85609276e-04, 2.00836352e-04, 3.21519189e-04,\n",
       "       9.82079578e-04, 1.39521509e-03, 6.99203350e-04, 1.43816684e-03,\n",
       "       1.84185254e-03, 1.84681846e-03, 1.42495796e-03, 7.85844624e-04,\n",
       "       4.06892258e-04, 1.32751294e-04, 4.76711564e-05, 3.02349409e-05,\n",
       "       1.55737465e-05, 2.12797523e-06, 0.00000000e+00, 0.00000000e+00,\n",
       "       0.00000000e+00, 0.00000000e+00, 0.00000000e+00, 3.58128843e-06,\n",
       "       4.92191838e-06, 7.34664438e-06, 3.45443652e-05, 5.45569679e-05,\n",
       "       1.26492664e-04, 3.50443131e-04, 7.88125545e-04, 1.17167684e-03,\n",
       "       1.45655783e-03, 1.87754629e-03, 2.05503569e-03, 2.53140524e-03,\n",
       "       1.33892887e-03, 1.19508447e-03, 7.97017834e-04, 5.88548583e-04,\n",
       "       3.72651981e-04, 2.21589233e-04, 1.51247064e-04, 8.01036284e-05,\n",
       "       3.97259937e-05, 1.66710497e-05, 1.69008349e-06, 6.66907057e-07,\n",
       "       0.00000000e+00, 0.00000000e+00, 3.39632069e-07, 4.94834992e-06,\n",
       "       1.53227405e-05, 5.58912088e-05, 1.11031471e-04, 2.08569699e-04,\n",
       "       6.81109034e-04, 9.04502518e-04, 1.70320213e-03, 2.51559838e-03,\n",
       "       2.72850765e-03, 4.90941594e-03, 7.10844501e-03, 5.38878017e-03,\n",
       "       4.70370158e-03, 3.27063533e-03, 1.75320761e-03, 1.55650261e-03,\n",
       "       1.22045077e-03, 8.45475016e-04, 5.23004745e-04, 3.95717306e-04,\n",
       "       1.07602680e-04, 2.28441975e-05, 7.14200588e-06, 7.63713143e-07,\n",
       "       0.00000000e+00, 0.00000000e+00, 1.34518489e-06, 1.47141752e-05,\n",
       "       4.12580347e-05, 1.23020882e-04, 2.10289314e-04, 6.63275870e-04,\n",
       "       1.05391297e-03, 1.69343064e-03, 2.52649074e-03, 2.35407354e-03,\n",
       "       2.32724769e-03, 3.07515083e-03, 5.48009240e-03, 4.42489764e-03,\n",
       "       3.48728835e-03, 2.54356157e-03, 2.33743828e-03, 1.44712181e-03,\n",
       "       1.53800610e-03, 1.04299453e-03, 1.24192762e-03, 8.11515756e-04,\n",
       "       4.12446008e-04, 5.16116210e-05, 9.85305886e-06, 4.57869353e-07,\n",
       "       0.00000000e+00, 1.85242988e-07, 3.77537271e-06, 1.38898263e-05,\n",
       "       5.58915323e-05, 1.57385251e-04, 3.28309445e-04, 6.09040601e-04,\n",
       "       9.70762064e-04, 2.28565437e-03, 3.10481844e-03, 1.65607235e-03,\n",
       "       2.97772373e-03, 3.77546532e-03, 4.97159337e-03, 6.60243498e-03,\n",
       "       4.30151506e-03, 2.52035420e-03, 2.97931574e-03, 2.41067977e-03,\n",
       "       1.95106531e-03, 1.69862601e-03, 1.42632239e-03, 1.61550509e-03,\n",
       "       7.47038805e-04, 1.44535738e-04, 1.26431443e-05, 9.02624168e-07,\n",
       "       1.27089014e-06, 5.51558399e-07, 2.39081667e-06, 2.01824394e-05,\n",
       "       9.60101368e-05, 2.83718708e-04, 3.69113614e-04, 5.94978782e-04,\n",
       "       1.00829801e-03, 1.28107352e-03, 2.64197747e-03, 2.67393487e-03,\n",
       "       3.29695382e-03, 4.65483438e-03, 5.19944181e-03, 5.15470161e-03,\n",
       "       4.62933369e-03, 2.79578244e-03, 3.10464978e-03, 3.30636396e-03,\n",
       "       1.95812493e-03, 1.45225405e-03, 1.23218762e-03, 8.42059689e-04,\n",
       "       5.13964279e-04, 1.76782761e-04, 1.32994353e-05, 1.05377248e-06,\n",
       "       0.00000000e+00, 1.04988190e-06, 4.30237573e-06, 1.86763348e-05,\n",
       "       9.58570492e-05, 1.92889770e-04, 4.13832485e-04, 7.77623731e-04,\n",
       "       1.22537850e-03, 2.60570664e-03, 3.46457831e-03, 6.32439165e-03,\n",
       "       2.95021778e-03, 3.62355032e-03, 3.33294178e-03, 4.35644971e-03,\n",
       "       3.49191433e-03, 3.46596965e-03, 3.89800314e-03, 2.85566325e-03,\n",
       "       2.65315384e-03, 2.09014998e-03, 1.00094154e-03, 8.48747944e-04,\n",
       "       6.05507622e-04, 1.02131710e-04, 1.70528576e-05, 3.41992698e-06,\n",
       "       0.00000000e+00, 6.29856552e-07, 4.43701104e-06, 2.88149981e-05,\n",
       "       9.40301618e-05, 1.67161681e-04, 3.97705348e-04, 7.33622416e-04,\n",
       "       1.40319685e-03, 2.45670660e-03, 3.90564891e-03, 5.35835176e-03,\n",
       "       3.46495929e-03, 3.28125526e-03, 3.39979142e-03, 4.02680876e-03,\n",
       "       3.43871235e-03, 4.39819533e-03, 4.69791427e-03, 4.41530523e-03,\n",
       "       3.09691168e-03, 2.29647030e-03, 1.21051629e-03, 6.66713464e-04,\n",
       "       3.14410960e-04, 7.82874406e-05, 1.10654870e-05, 6.01683868e-07,\n",
       "       0.00000000e+00, 2.65673729e-06, 3.97319635e-06, 1.60109268e-05,\n",
       "       1.05325255e-04, 2.28070567e-04, 6.11343251e-04, 1.43263705e-03,\n",
       "       2.67088972e-03, 3.63217060e-03, 5.33570370e-03, 5.64630657e-03,\n",
       "       3.47032485e-03, 2.85933401e-03, 4.18440132e-03, 3.98031592e-03,\n",
       "       3.41774386e-03, 3.75671636e-03, 3.46224232e-03, 3.83663712e-03,\n",
       "       2.83094224e-03, 2.08277872e-03, 1.45687366e-03, 5.71176292e-04,\n",
       "       1.39485871e-04, 3.93365383e-05, 6.20046299e-06, 1.27478361e-06,\n",
       "       0.00000000e+00, 1.11184536e-06, 2.38371176e-06, 1.28116286e-05,\n",
       "       9.52233105e-05, 2.81819457e-04, 8.45883208e-04, 1.75329595e-03,\n",
       "       2.87291844e-03, 4.46673186e-03, 6.09046977e-03, 5.76914237e-03,\n",
       "       4.65469577e-03, 4.56487961e-03, 9.86445553e-03, 5.77228023e-03,\n",
       "       3.89382876e-03, 3.76726609e-03, 4.48493912e-03, 2.57580541e-03,\n",
       "       1.38005399e-03, 1.28538543e-03, 1.86345783e-03, 5.18867844e-04,\n",
       "       1.12610713e-04, 1.99082270e-05, 6.65710938e-06, 1.45286588e-06,\n",
       "       0.00000000e+00, 0.00000000e+00, 3.45235947e-06, 9.32688692e-06,\n",
       "       8.20232551e-05, 4.09990708e-04, 1.11185809e-03, 1.32877006e-03,\n",
       "       3.17202362e-03, 5.55814294e-03, 6.21069016e-03, 5.65028416e-03,\n",
       "       6.02484105e-03, 8.07191067e-03, 8.51852162e-03, 4.52240198e-03,\n",
       "       4.59676996e-03, 3.29803138e-03, 3.61536092e-03, 1.97960816e-03,\n",
       "       1.19879594e-03, 2.54603787e-03, 3.36694789e-03, 9.02410252e-04,\n",
       "       1.17718729e-04, 2.68571428e-05, 1.09541930e-05, 0.00000000e+00,\n",
       "       0.00000000e+00, 5.76876531e-07, 4.93991838e-07, 1.33520414e-05,\n",
       "       7.49620654e-05, 3.47916262e-04, 1.27239417e-03, 2.59082267e-03,\n",
       "       3.89415588e-03, 5.07456456e-03, 4.81092080e-03, 4.87314789e-03,\n",
       "       3.72111493e-03, 5.75797557e-03, 7.41709174e-03, 5.25810606e-03,\n",
       "       3.60800239e-03, 8.63041577e-03, 2.51045600e-03, 1.33647651e-03,\n",
       "       1.20927018e-03, 1.50436640e-03, 1.47509921e-03, 5.65818699e-04,\n",
       "       1.79823352e-04, 3.24407171e-05, 1.60846516e-05, 3.34006616e-07,\n",
       "       0.00000000e+00, 3.63624114e-07, 1.61324789e-06, 1.61699608e-05,\n",
       "       6.68218898e-05, 4.96204880e-04, 1.79581015e-03, 2.66942872e-03,\n",
       "       4.51274130e-03, 5.10198880e-03, 4.87010694e-03, 4.07929868e-03,\n",
       "       5.96822625e-03, 6.50780639e-03, 7.77673471e-03, 4.26305635e-03,\n",
       "       4.01024903e-03, 6.80702083e-03, 3.23498880e-03, 1.31416655e-03,\n",
       "       1.58559854e-03, 1.96570371e-03, 8.50236615e-04, 3.93734453e-04,\n",
       "       1.63369545e-04, 3.53832455e-05, 1.29966675e-05, 7.25807282e-07,\n",
       "       0.00000000e+00, 7.28706301e-07, 4.31886011e-06, 3.03549800e-05,\n",
       "       1.27131261e-04, 5.00922675e-04, 1.21560612e-03, 2.87314872e-03,\n",
       "       3.64693184e-03, 4.30512592e-03, 4.42956037e-03, 4.59604693e-03,\n",
       "       4.88738629e-03, 6.33984933e-03, 7.88728946e-03, 2.62872530e-03,\n",
       "       2.55399879e-03, 2.81308687e-03, 2.65261790e-03, 1.55445140e-03,\n",
       "       1.66272749e-03, 1.86585850e-03, 5.77395167e-04, 4.34353098e-04,\n",
       "       1.24682307e-04, 5.37919276e-05, 1.88919177e-05, 2.22015391e-06,\n",
       "       0.00000000e+00, 9.78672334e-07, 2.57961111e-06, 3.43352697e-05,\n",
       "       1.07022835e-04, 3.77199625e-04, 1.47012925e-03, 2.46768499e-03,\n",
       "       3.57639733e-03, 4.00900454e-03, 4.98387244e-03, 6.37964269e-03,\n",
       "       4.66225503e-03, 7.80152004e-03, 3.88823164e-03, 3.32871763e-03,\n",
       "       1.81086061e-03, 2.27658711e-03, 3.15374089e-03, 1.60614163e-03,\n",
       "       1.52501767e-03, 8.69334760e-04, 6.88032859e-04, 3.71240978e-04,\n",
       "       1.88746677e-04, 8.26754413e-05, 5.93397715e-06, 8.49218976e-07,\n",
       "       0.00000000e+00, 0.00000000e+00, 4.75468634e-06, 4.03010083e-05,\n",
       "       1.83288383e-04, 4.98075199e-04, 1.56038065e-03, 2.51701068e-03,\n",
       "       2.68221482e-03, 3.87661365e-03, 7.05181269e-03, 4.90962891e-03,\n",
       "       4.23689445e-03, 3.05884171e-03, 2.58787111e-03, 1.75431648e-03,\n",
       "       1.38320928e-03, 1.65761412e-03, 1.38554986e-03, 2.35974654e-03,\n",
       "       1.51390751e-03, 9.54904684e-04, 7.71485638e-04, 4.12694208e-04,\n",
       "       3.23269538e-04, 4.62382964e-05, 8.05757770e-06, 2.00772390e-06,\n",
       "       0.00000000e+00, 0.00000000e+00, 9.80464703e-06, 6.88392362e-05,\n",
       "       1.95847787e-04, 5.93724109e-04, 1.29476514e-03, 2.59074751e-03,\n",
       "       3.93371291e-03, 3.96572281e-03, 6.50415995e-03, 4.99200790e-03,\n",
       "       3.79626760e-03, 3.07748270e-03, 1.84360866e-03, 1.39976164e-03,\n",
       "       1.18370694e-03, 2.72473641e-03, 2.69781814e-03, 2.53941006e-03,\n",
       "       1.75328011e-03, 1.04025574e-03, 6.53333977e-04, 3.30993989e-04,\n",
       "       1.50390252e-04, 3.31462503e-05, 2.70536854e-06, 1.41968865e-06,\n",
       "       0.00000000e+00, 0.00000000e+00, 4.77824305e-06, 8.10412962e-05,\n",
       "       2.05148373e-04, 5.90753827e-04, 1.73307084e-03, 3.21187777e-03,\n",
       "       4.11290963e-03, 5.42584757e-03, 5.25267898e-03, 3.90109685e-03,\n",
       "       2.91600430e-03, 2.50589043e-03, 1.71340044e-03, 1.61097166e-03,\n",
       "       1.47096852e-03, 2.24777418e-03, 3.19162396e-03, 1.61207876e-03,\n",
       "       1.57599473e-03, 1.20692092e-03, 5.23066723e-04, 2.48473522e-04,\n",
       "       1.02157183e-04, 2.80564109e-05, 3.19979831e-06, 0.00000000e+00,\n",
       "       0.00000000e+00, 7.27122148e-07, 7.60784753e-06, 5.01230485e-05,\n",
       "       1.61248633e-04, 4.78815025e-04, 1.50939667e-03, 3.37012428e-03,\n",
       "       6.43075093e-03, 4.15952209e-03, 1.95374954e-03, 2.09953252e-03,\n",
       "       1.32537078e-03, 1.57845042e-03, 1.55457818e-03, 1.05935517e-03,\n",
       "       1.12843351e-03, 1.04755998e-03, 1.43098354e-03, 9.83940094e-04,\n",
       "       8.64917368e-04, 5.96532038e-04, 2.26475038e-04, 1.47772806e-04,\n",
       "       5.41956102e-05, 1.14728702e-05, 1.20886817e-06, 0.00000000e+00,\n",
       "       0.00000000e+00, 0.00000000e+00, 2.29392371e-06, 3.31420289e-05,\n",
       "       1.21983265e-04, 2.23382934e-04, 6.74672474e-04, 1.12154405e-03,\n",
       "       1.71700939e-03, 3.29863713e-03, 2.95523711e-03, 2.22547758e-03,\n",
       "       1.81156362e-03, 1.65222441e-03, 1.63765043e-03, 1.17643994e-03,\n",
       "       1.45983308e-03, 9.65486544e-04, 8.15154533e-04, 6.43558149e-04,\n",
       "       4.37296727e-04, 2.81033181e-04, 1.74864021e-04, 6.96354545e-05,\n",
       "       2.52143494e-05, 8.39269672e-06, 3.54371988e-07, 0.00000000e+00,\n",
       "       0.00000000e+00, 0.00000000e+00, 1.97545135e-06, 1.25489113e-05,\n",
       "       6.71804871e-05, 1.42952176e-04, 3.43676887e-04, 9.33930484e-04,\n",
       "       1.39964899e-03, 2.22649715e-03, 2.98780432e-03, 4.49772141e-03,\n",
       "       5.79099778e-03, 5.88913544e-03, 3.10967920e-03, 2.32720448e-03,\n",
       "       1.74204446e-03, 1.21625238e-03, 6.80086301e-04, 4.21823836e-04,\n",
       "       2.54283537e-04, 1.38410351e-04, 6.74005870e-05, 2.22430937e-05,\n",
       "       1.54241770e-05, 2.48588122e-06, 0.00000000e+00, 0.00000000e+00,\n",
       "       0.00000000e+00, 0.00000000e+00, 6.65124401e-07, 1.21531185e-05,\n",
       "       3.72096624e-05, 1.10180469e-04, 2.09463116e-04, 4.59542748e-04,\n",
       "       6.92849909e-04, 9.25195241e-04, 9.66487502e-04, 1.13837523e-03,\n",
       "       1.73250102e-03, 1.39469763e-03, 8.03704003e-04, 8.81271326e-04,\n",
       "       6.54251122e-04, 4.11368411e-04, 3.11072637e-04, 2.36679591e-04,\n",
       "       1.24566216e-04, 9.89819771e-05, 3.93864121e-05, 1.93287409e-05,\n",
       "       7.99250098e-06, 6.63380322e-07, 0.00000000e+00, 0.00000000e+00,\n",
       "       0.00000000e+00, 0.00000000e+00, 0.00000000e+00, 2.08860405e-06,\n",
       "       1.58782558e-05, 3.69680594e-05, 1.02049905e-04, 3.35083883e-04,\n",
       "       5.21719467e-04, 5.44318029e-04, 1.12889454e-03, 8.39265422e-04,\n",
       "       1.36660084e-03, 5.60864150e-04, 5.71465608e-04, 5.50283137e-04,\n",
       "       3.84362726e-04, 5.29586602e-04, 3.39986616e-04, 1.40073088e-04,\n",
       "       9.40460962e-05, 3.72808683e-05, 1.38606341e-05, 4.64271293e-06,\n",
       "       3.14063360e-06, 0.00000000e+00, 0.00000000e+00, 0.00000000e+00,\n",
       "       0.00000000e+00, 0.00000000e+00, 0.00000000e+00, 0.00000000e+00,\n",
       "       3.68234353e-06, 7.84612242e-06, 1.70620616e-05, 4.22106066e-05,\n",
       "       6.52531091e-05, 9.40191684e-05, 1.08984058e-04, 2.63846662e-04,\n",
       "       1.88811942e-04, 1.66767679e-04, 1.94747565e-04, 1.54446012e-04,\n",
       "       1.16426336e-04, 1.25346298e-04, 1.02882620e-04, 4.60132877e-05,\n",
       "       2.82986042e-05, 1.41078069e-05, 2.87221735e-06, 2.26448021e-06,\n",
       "       0.00000000e+00, 0.00000000e+00, 0.00000000e+00, 0.00000000e+00,\n",
       "       0.00000000e+00, 0.00000000e+00, 0.00000000e+00, 0.00000000e+00,\n",
       "       0.00000000e+00, 1.27863349e-06, 6.96983050e-07, 3.46880147e-07,\n",
       "       7.15699549e-07, 1.07329285e-06, 4.47563497e-06, 3.52664670e-06,\n",
       "       2.86109646e-06, 2.47682282e-06, 8.01688133e-07, 7.36411823e-06,\n",
       "       3.17723310e-06, 7.13488053e-06, 2.75121313e-06, 2.64495286e-06,\n",
       "       1.11150121e-06, 2.83303837e-06, 1.61800604e-06, 6.59223117e-07,\n",
       "       0.00000000e+00, 0.00000000e+00, 0.00000000e+00, 0.00000000e+00])"
      ]
     },
     "execution_count": 8,
     "metadata": {},
     "output_type": "execute_result"
    }
   ],
   "source": [
    "rf.feature_importances_"
   ]
  },
  {
   "cell_type": "code",
   "execution_count": 9,
   "id": "46629f07-579a-4008-9858-52fa5eb9f416",
   "metadata": {},
   "outputs": [
    {
     "data": {
      "text/html": [
       "<div>\n",
       "<style scoped>\n",
       "    .dataframe tbody tr th:only-of-type {\n",
       "        vertical-align: middle;\n",
       "    }\n",
       "\n",
       "    .dataframe tbody tr th {\n",
       "        vertical-align: top;\n",
       "    }\n",
       "\n",
       "    .dataframe thead th {\n",
       "        text-align: right;\n",
       "    }\n",
       "</style>\n",
       "<table border=\"1\" class=\"dataframe\">\n",
       "  <thead>\n",
       "    <tr style=\"text-align: right;\">\n",
       "      <th></th>\n",
       "      <th>day</th>\n",
       "      <th>outlook</th>\n",
       "      <th>temp</th>\n",
       "      <th>humidity</th>\n",
       "      <th>wind</th>\n",
       "      <th>play</th>\n",
       "    </tr>\n",
       "  </thead>\n",
       "  <tbody>\n",
       "    <tr>\n",
       "      <th>0</th>\n",
       "      <td>D1</td>\n",
       "      <td>Sunny</td>\n",
       "      <td>Hot</td>\n",
       "      <td>High</td>\n",
       "      <td>Weak</td>\n",
       "      <td>No</td>\n",
       "    </tr>\n",
       "    <tr>\n",
       "      <th>1</th>\n",
       "      <td>D2</td>\n",
       "      <td>Sunny</td>\n",
       "      <td>Hot</td>\n",
       "      <td>High</td>\n",
       "      <td>Strong</td>\n",
       "      <td>No</td>\n",
       "    </tr>\n",
       "    <tr>\n",
       "      <th>2</th>\n",
       "      <td>D3</td>\n",
       "      <td>Overcast</td>\n",
       "      <td>Hot</td>\n",
       "      <td>High</td>\n",
       "      <td>Weak</td>\n",
       "      <td>Yes</td>\n",
       "    </tr>\n",
       "    <tr>\n",
       "      <th>3</th>\n",
       "      <td>D4</td>\n",
       "      <td>Rain</td>\n",
       "      <td>Mild</td>\n",
       "      <td>High</td>\n",
       "      <td>Weak</td>\n",
       "      <td>Yes</td>\n",
       "    </tr>\n",
       "    <tr>\n",
       "      <th>4</th>\n",
       "      <td>D5</td>\n",
       "      <td>Rain</td>\n",
       "      <td>Cool</td>\n",
       "      <td>Normal</td>\n",
       "      <td>Weak</td>\n",
       "      <td>Yes</td>\n",
       "    </tr>\n",
       "  </tbody>\n",
       "</table>\n",
       "</div>"
      ],
      "text/plain": [
       "  day   outlook  temp humidity    wind play\n",
       "0  D1     Sunny   Hot     High    Weak   No\n",
       "1  D2     Sunny   Hot     High  Strong   No\n",
       "2  D3  Overcast   Hot     High    Weak  Yes\n",
       "3  D4      Rain  Mild     High    Weak  Yes\n",
       "4  D5      Rain  Cool   Normal    Weak  Yes"
      ]
     },
     "execution_count": 9,
     "metadata": {},
     "output_type": "execute_result"
    }
   ],
   "source": [
    "# working\n",
    "\n",
    "\n",
    "dff = pd.read_csv('play_tennis.csv')\n",
    "dff.head()"
   ]
  },
  {
   "cell_type": "raw",
   "id": "88e107a0-89fe-4dc3-ab77-0f98a48a4490",
   "metadata": {},
   "source": [
    "Encoding Categorical "
   ]
  },
  {
   "cell_type": "code",
   "execution_count": 10,
   "id": "d05de91f-95c5-489e-8a70-7c98d16c0730",
   "metadata": {},
   "outputs": [],
   "source": [
    "#encoding ordinal data from scartch"
   ]
  },
  {
   "cell_type": "code",
   "execution_count": 11,
   "id": "aaaf2504-f6eb-49b5-95dd-6476f4d1e10f",
   "metadata": {},
   "outputs": [
    {
     "data": {
      "text/plain": [
       "array(['High', 'Normal'], dtype=object)"
      ]
     },
     "execution_count": 11,
     "metadata": {},
     "output_type": "execute_result"
    }
   ],
   "source": [
    "dff['humidity'].unique()\n"
   ]
  },
  {
   "cell_type": "code",
   "execution_count": 12,
   "id": "ef2089b6-5069-43a6-8f35-44b7d21f6ee7",
   "metadata": {},
   "outputs": [
    {
     "data": {
      "text/plain": [
       "array(['Weak', 'Strong'], dtype=object)"
      ]
     },
     "execution_count": 12,
     "metadata": {},
     "output_type": "execute_result"
    }
   ],
   "source": [
    "dff['wind'].unique()\n"
   ]
  },
  {
   "cell_type": "code",
   "execution_count": 13,
   "id": "a03d5b68-3d05-48cd-91b8-f00b14c9de5d",
   "metadata": {},
   "outputs": [
    {
     "data": {
      "text/plain": [
       "array(['Hot', 'Mild', 'Cool'], dtype=object)"
      ]
     },
     "execution_count": 13,
     "metadata": {},
     "output_type": "execute_result"
    }
   ],
   "source": [
    "dff['temp'].unique()\n"
   ]
  },
  {
   "cell_type": "code",
   "execution_count": 14,
   "id": "770cc6de-172c-42cc-bf3d-6c566a12046d",
   "metadata": {},
   "outputs": [],
   "source": [
    "dff['humidity'] = dff['humidity'].map({'High':1,'Normal':0})\n",
    "dff['wind'] = dff['wind'].map({'Strong':1,'Weak':0})\n",
    "dff['temp'] = dff['temp'].map({'Hot':2,'Mild':1,'Cool':0})\n",
    "#lanel encoding\n",
    "\n",
    "dff['play'] = dff['play'].map({'No':0,'Yes':1})"
   ]
  },
  {
   "cell_type": "code",
   "execution_count": 15,
   "id": "41c3ba8a-972c-459b-8d21-702627e5aeba",
   "metadata": {},
   "outputs": [
    {
     "data": {
      "text/html": [
       "<div>\n",
       "<style scoped>\n",
       "    .dataframe tbody tr th:only-of-type {\n",
       "        vertical-align: middle;\n",
       "    }\n",
       "\n",
       "    .dataframe tbody tr th {\n",
       "        vertical-align: top;\n",
       "    }\n",
       "\n",
       "    .dataframe thead th {\n",
       "        text-align: right;\n",
       "    }\n",
       "</style>\n",
       "<table border=\"1\" class=\"dataframe\">\n",
       "  <thead>\n",
       "    <tr style=\"text-align: right;\">\n",
       "      <th></th>\n",
       "      <th>day</th>\n",
       "      <th>outlook</th>\n",
       "      <th>temp</th>\n",
       "      <th>humidity</th>\n",
       "      <th>wind</th>\n",
       "      <th>play</th>\n",
       "    </tr>\n",
       "  </thead>\n",
       "  <tbody>\n",
       "    <tr>\n",
       "      <th>0</th>\n",
       "      <td>D1</td>\n",
       "      <td>Sunny</td>\n",
       "      <td>2</td>\n",
       "      <td>1</td>\n",
       "      <td>0</td>\n",
       "      <td>0</td>\n",
       "    </tr>\n",
       "    <tr>\n",
       "      <th>1</th>\n",
       "      <td>D2</td>\n",
       "      <td>Sunny</td>\n",
       "      <td>2</td>\n",
       "      <td>1</td>\n",
       "      <td>1</td>\n",
       "      <td>0</td>\n",
       "    </tr>\n",
       "    <tr>\n",
       "      <th>2</th>\n",
       "      <td>D3</td>\n",
       "      <td>Overcast</td>\n",
       "      <td>2</td>\n",
       "      <td>1</td>\n",
       "      <td>0</td>\n",
       "      <td>1</td>\n",
       "    </tr>\n",
       "    <tr>\n",
       "      <th>3</th>\n",
       "      <td>D4</td>\n",
       "      <td>Rain</td>\n",
       "      <td>1</td>\n",
       "      <td>1</td>\n",
       "      <td>0</td>\n",
       "      <td>1</td>\n",
       "    </tr>\n",
       "    <tr>\n",
       "      <th>4</th>\n",
       "      <td>D5</td>\n",
       "      <td>Rain</td>\n",
       "      <td>0</td>\n",
       "      <td>0</td>\n",
       "      <td>0</td>\n",
       "      <td>1</td>\n",
       "    </tr>\n",
       "  </tbody>\n",
       "</table>\n",
       "</div>"
      ],
      "text/plain": [
       "  day   outlook  temp  humidity  wind  play\n",
       "0  D1     Sunny     2         1     0     0\n",
       "1  D2     Sunny     2         1     1     0\n",
       "2  D3  Overcast     2         1     0     1\n",
       "3  D4      Rain     1         1     0     1\n",
       "4  D5      Rain     0         0     0     1"
      ]
     },
     "execution_count": 15,
     "metadata": {},
     "output_type": "execute_result"
    }
   ],
   "source": [
    "dff.head()"
   ]
  },
  {
   "cell_type": "code",
   "execution_count": 60,
   "id": "5137156c-161d-4cbb-9ff5-f99fc76b7b25",
   "metadata": {},
   "outputs": [
    {
     "data": {
      "text/html": [
       "<style>#sk-container-id-8 {color: black;}#sk-container-id-8 pre{padding: 0;}#sk-container-id-8 div.sk-toggleable {background-color: white;}#sk-container-id-8 label.sk-toggleable__label {cursor: pointer;display: block;width: 100%;margin-bottom: 0;padding: 0.3em;box-sizing: border-box;text-align: center;}#sk-container-id-8 label.sk-toggleable__label-arrow:before {content: \"▸\";float: left;margin-right: 0.25em;color: #696969;}#sk-container-id-8 label.sk-toggleable__label-arrow:hover:before {color: black;}#sk-container-id-8 div.sk-estimator:hover label.sk-toggleable__label-arrow:before {color: black;}#sk-container-id-8 div.sk-toggleable__content {max-height: 0;max-width: 0;overflow: hidden;text-align: left;background-color: #f0f8ff;}#sk-container-id-8 div.sk-toggleable__content pre {margin: 0.2em;color: black;border-radius: 0.25em;background-color: #f0f8ff;}#sk-container-id-8 input.sk-toggleable__control:checked~div.sk-toggleable__content {max-height: 200px;max-width: 100%;overflow: auto;}#sk-container-id-8 input.sk-toggleable__control:checked~label.sk-toggleable__label-arrow:before {content: \"▾\";}#sk-container-id-8 div.sk-estimator input.sk-toggleable__control:checked~label.sk-toggleable__label {background-color: #d4ebff;}#sk-container-id-8 div.sk-label input.sk-toggleable__control:checked~label.sk-toggleable__label {background-color: #d4ebff;}#sk-container-id-8 input.sk-hidden--visually {border: 0;clip: rect(1px 1px 1px 1px);clip: rect(1px, 1px, 1px, 1px);height: 1px;margin: -1px;overflow: hidden;padding: 0;position: absolute;width: 1px;}#sk-container-id-8 div.sk-estimator {font-family: monospace;background-color: #f0f8ff;border: 1px dotted black;border-radius: 0.25em;box-sizing: border-box;margin-bottom: 0.5em;}#sk-container-id-8 div.sk-estimator:hover {background-color: #d4ebff;}#sk-container-id-8 div.sk-parallel-item::after {content: \"\";width: 100%;border-bottom: 1px solid gray;flex-grow: 1;}#sk-container-id-8 div.sk-label:hover label.sk-toggleable__label {background-color: #d4ebff;}#sk-container-id-8 div.sk-serial::before {content: \"\";position: absolute;border-left: 1px solid gray;box-sizing: border-box;top: 0;bottom: 0;left: 50%;z-index: 0;}#sk-container-id-8 div.sk-serial {display: flex;flex-direction: column;align-items: center;background-color: white;padding-right: 0.2em;padding-left: 0.2em;position: relative;}#sk-container-id-8 div.sk-item {position: relative;z-index: 1;}#sk-container-id-8 div.sk-parallel {display: flex;align-items: stretch;justify-content: center;background-color: white;position: relative;}#sk-container-id-8 div.sk-item::before, #sk-container-id-8 div.sk-parallel-item::before {content: \"\";position: absolute;border-left: 1px solid gray;box-sizing: border-box;top: 0;bottom: 0;left: 50%;z-index: -1;}#sk-container-id-8 div.sk-parallel-item {display: flex;flex-direction: column;z-index: 1;position: relative;background-color: white;}#sk-container-id-8 div.sk-parallel-item:first-child::after {align-self: flex-end;width: 50%;}#sk-container-id-8 div.sk-parallel-item:last-child::after {align-self: flex-start;width: 50%;}#sk-container-id-8 div.sk-parallel-item:only-child::after {width: 0;}#sk-container-id-8 div.sk-dashed-wrapped {border: 1px dashed gray;margin: 0 0.4em 0.5em 0.4em;box-sizing: border-box;padding-bottom: 0.4em;background-color: white;}#sk-container-id-8 div.sk-label label {font-family: monospace;font-weight: bold;display: inline-block;line-height: 1.2em;}#sk-container-id-8 div.sk-label-container {text-align: center;}#sk-container-id-8 div.sk-container {/* jupyter's `normalize.less` sets `[hidden] { display: none; }` but bootstrap.min.css set `[hidden] { display: none !important; }` so we also need the `!important` here to be able to override the default hidden behavior on the sphinx rendered scikit-learn.org. See: https://github.com/scikit-learn/scikit-learn/issues/21755 */display: inline-block !important;position: relative;}#sk-container-id-8 div.sk-text-repr-fallback {display: none;}</style><div id=\"sk-container-id-8\" class=\"sk-top-container\"><div class=\"sk-text-repr-fallback\"><pre>OrdinalEncoder(categories=[[&#x27;Cool&#x27;, &#x27;Mild&#x27;, &#x27;Hot&#x27;], [&#x27;Normal&#x27;, &#x27;High&#x27;],\n",
       "                           [&#x27;Weak&#x27;, &#x27;Strong&#x27;]])</pre><b>In a Jupyter environment, please rerun this cell to show the HTML representation or trust the notebook. <br />On GitHub, the HTML representation is unable to render, please try loading this page with nbviewer.org.</b></div><div class=\"sk-container\" hidden><div class=\"sk-item\"><div class=\"sk-estimator sk-toggleable\"><input class=\"sk-toggleable__control sk-hidden--visually\" id=\"sk-estimator-id-8\" type=\"checkbox\" checked><label for=\"sk-estimator-id-8\" class=\"sk-toggleable__label sk-toggleable__label-arrow\">OrdinalEncoder</label><div class=\"sk-toggleable__content\"><pre>OrdinalEncoder(categories=[[&#x27;Cool&#x27;, &#x27;Mild&#x27;, &#x27;Hot&#x27;], [&#x27;Normal&#x27;, &#x27;High&#x27;],\n",
       "                           [&#x27;Weak&#x27;, &#x27;Strong&#x27;]])</pre></div></div></div></div></div>"
      ],
      "text/plain": [
       "OrdinalEncoder(categories=[['Cool', 'Mild', 'Hot'], ['Normal', 'High'],\n",
       "                           ['Weak', 'Strong']])"
      ]
     },
     "execution_count": 60,
     "metadata": {},
     "output_type": "execute_result"
    }
   ],
   "source": [
    "# ordinal encoding using sklearn\n",
    "\n",
    "from sklearn.preprocessing import  OrdinalEncoder\n",
    "from sklearn.model_selection import train_test_split\n",
    "\n",
    "\n",
    "data = pd.read_csv('play_tennis.csv')\n",
    "x_train,x_test,y_train,y_test = train_test_split(data.iloc[:,2:5],data.iloc[:,-1],test_size = 0.2)\n",
    "\n",
    "oeo = OrdinalEncoder(categories=[['Cool','Mild','Hot'],['Normal','High'],['Weak','Strong']])\n",
    "oeo.fit(x_train)"
   ]
  },
  {
   "cell_type": "code",
   "execution_count": 61,
   "id": "aa34ba99-3846-4726-a036-6425653aebd4",
   "metadata": {},
   "outputs": [],
   "source": [
    "data[['temp','humidity','wind']] = oeo.transform(data[['temp','humidity','wind']])"
   ]
  },
  {
   "cell_type": "code",
   "execution_count": 62,
   "id": "731bf714-2140-47f8-b7b1-f37ea611190c",
   "metadata": {},
   "outputs": [
    {
     "data": {
      "text/html": [
       "<div>\n",
       "<style scoped>\n",
       "    .dataframe tbody tr th:only-of-type {\n",
       "        vertical-align: middle;\n",
       "    }\n",
       "\n",
       "    .dataframe tbody tr th {\n",
       "        vertical-align: top;\n",
       "    }\n",
       "\n",
       "    .dataframe thead th {\n",
       "        text-align: right;\n",
       "    }\n",
       "</style>\n",
       "<table border=\"1\" class=\"dataframe\">\n",
       "  <thead>\n",
       "    <tr style=\"text-align: right;\">\n",
       "      <th></th>\n",
       "      <th>day</th>\n",
       "      <th>outlook</th>\n",
       "      <th>temp</th>\n",
       "      <th>humidity</th>\n",
       "      <th>wind</th>\n",
       "      <th>play</th>\n",
       "    </tr>\n",
       "  </thead>\n",
       "  <tbody>\n",
       "    <tr>\n",
       "      <th>0</th>\n",
       "      <td>D1</td>\n",
       "      <td>Sunny</td>\n",
       "      <td>2.0</td>\n",
       "      <td>1.0</td>\n",
       "      <td>0.0</td>\n",
       "      <td>No</td>\n",
       "    </tr>\n",
       "    <tr>\n",
       "      <th>1</th>\n",
       "      <td>D2</td>\n",
       "      <td>Sunny</td>\n",
       "      <td>2.0</td>\n",
       "      <td>1.0</td>\n",
       "      <td>1.0</td>\n",
       "      <td>No</td>\n",
       "    </tr>\n",
       "    <tr>\n",
       "      <th>2</th>\n",
       "      <td>D3</td>\n",
       "      <td>Overcast</td>\n",
       "      <td>2.0</td>\n",
       "      <td>1.0</td>\n",
       "      <td>0.0</td>\n",
       "      <td>Yes</td>\n",
       "    </tr>\n",
       "    <tr>\n",
       "      <th>3</th>\n",
       "      <td>D4</td>\n",
       "      <td>Rain</td>\n",
       "      <td>1.0</td>\n",
       "      <td>1.0</td>\n",
       "      <td>0.0</td>\n",
       "      <td>Yes</td>\n",
       "    </tr>\n",
       "    <tr>\n",
       "      <th>4</th>\n",
       "      <td>D5</td>\n",
       "      <td>Rain</td>\n",
       "      <td>0.0</td>\n",
       "      <td>0.0</td>\n",
       "      <td>0.0</td>\n",
       "      <td>Yes</td>\n",
       "    </tr>\n",
       "  </tbody>\n",
       "</table>\n",
       "</div>"
      ],
      "text/plain": [
       "  day   outlook  temp  humidity  wind play\n",
       "0  D1     Sunny   2.0       1.0   0.0   No\n",
       "1  D2     Sunny   2.0       1.0   1.0   No\n",
       "2  D3  Overcast   2.0       1.0   0.0  Yes\n",
       "3  D4      Rain   1.0       1.0   0.0  Yes\n",
       "4  D5      Rain   0.0       0.0   0.0  Yes"
      ]
     },
     "execution_count": 62,
     "metadata": {},
     "output_type": "execute_result"
    }
   ],
   "source": [
    "data.head()\n"
   ]
  },
  {
   "cell_type": "code",
   "execution_count": 63,
   "id": "0df905ac-324f-4571-a6fb-5dcdca5a07d1",
   "metadata": {},
   "outputs": [
    {
     "data": {
      "text/html": [
       "<style>#sk-container-id-9 {color: black;}#sk-container-id-9 pre{padding: 0;}#sk-container-id-9 div.sk-toggleable {background-color: white;}#sk-container-id-9 label.sk-toggleable__label {cursor: pointer;display: block;width: 100%;margin-bottom: 0;padding: 0.3em;box-sizing: border-box;text-align: center;}#sk-container-id-9 label.sk-toggleable__label-arrow:before {content: \"▸\";float: left;margin-right: 0.25em;color: #696969;}#sk-container-id-9 label.sk-toggleable__label-arrow:hover:before {color: black;}#sk-container-id-9 div.sk-estimator:hover label.sk-toggleable__label-arrow:before {color: black;}#sk-container-id-9 div.sk-toggleable__content {max-height: 0;max-width: 0;overflow: hidden;text-align: left;background-color: #f0f8ff;}#sk-container-id-9 div.sk-toggleable__content pre {margin: 0.2em;color: black;border-radius: 0.25em;background-color: #f0f8ff;}#sk-container-id-9 input.sk-toggleable__control:checked~div.sk-toggleable__content {max-height: 200px;max-width: 100%;overflow: auto;}#sk-container-id-9 input.sk-toggleable__control:checked~label.sk-toggleable__label-arrow:before {content: \"▾\";}#sk-container-id-9 div.sk-estimator input.sk-toggleable__control:checked~label.sk-toggleable__label {background-color: #d4ebff;}#sk-container-id-9 div.sk-label input.sk-toggleable__control:checked~label.sk-toggleable__label {background-color: #d4ebff;}#sk-container-id-9 input.sk-hidden--visually {border: 0;clip: rect(1px 1px 1px 1px);clip: rect(1px, 1px, 1px, 1px);height: 1px;margin: -1px;overflow: hidden;padding: 0;position: absolute;width: 1px;}#sk-container-id-9 div.sk-estimator {font-family: monospace;background-color: #f0f8ff;border: 1px dotted black;border-radius: 0.25em;box-sizing: border-box;margin-bottom: 0.5em;}#sk-container-id-9 div.sk-estimator:hover {background-color: #d4ebff;}#sk-container-id-9 div.sk-parallel-item::after {content: \"\";width: 100%;border-bottom: 1px solid gray;flex-grow: 1;}#sk-container-id-9 div.sk-label:hover label.sk-toggleable__label {background-color: #d4ebff;}#sk-container-id-9 div.sk-serial::before {content: \"\";position: absolute;border-left: 1px solid gray;box-sizing: border-box;top: 0;bottom: 0;left: 50%;z-index: 0;}#sk-container-id-9 div.sk-serial {display: flex;flex-direction: column;align-items: center;background-color: white;padding-right: 0.2em;padding-left: 0.2em;position: relative;}#sk-container-id-9 div.sk-item {position: relative;z-index: 1;}#sk-container-id-9 div.sk-parallel {display: flex;align-items: stretch;justify-content: center;background-color: white;position: relative;}#sk-container-id-9 div.sk-item::before, #sk-container-id-9 div.sk-parallel-item::before {content: \"\";position: absolute;border-left: 1px solid gray;box-sizing: border-box;top: 0;bottom: 0;left: 50%;z-index: -1;}#sk-container-id-9 div.sk-parallel-item {display: flex;flex-direction: column;z-index: 1;position: relative;background-color: white;}#sk-container-id-9 div.sk-parallel-item:first-child::after {align-self: flex-end;width: 50%;}#sk-container-id-9 div.sk-parallel-item:last-child::after {align-self: flex-start;width: 50%;}#sk-container-id-9 div.sk-parallel-item:only-child::after {width: 0;}#sk-container-id-9 div.sk-dashed-wrapped {border: 1px dashed gray;margin: 0 0.4em 0.5em 0.4em;box-sizing: border-box;padding-bottom: 0.4em;background-color: white;}#sk-container-id-9 div.sk-label label {font-family: monospace;font-weight: bold;display: inline-block;line-height: 1.2em;}#sk-container-id-9 div.sk-label-container {text-align: center;}#sk-container-id-9 div.sk-container {/* jupyter's `normalize.less` sets `[hidden] { display: none; }` but bootstrap.min.css set `[hidden] { display: none !important; }` so we also need the `!important` here to be able to override the default hidden behavior on the sphinx rendered scikit-learn.org. See: https://github.com/scikit-learn/scikit-learn/issues/21755 */display: inline-block !important;position: relative;}#sk-container-id-9 div.sk-text-repr-fallback {display: none;}</style><div id=\"sk-container-id-9\" class=\"sk-top-container\"><div class=\"sk-text-repr-fallback\"><pre>LabelEncoder()</pre><b>In a Jupyter environment, please rerun this cell to show the HTML representation or trust the notebook. <br />On GitHub, the HTML representation is unable to render, please try loading this page with nbviewer.org.</b></div><div class=\"sk-container\" hidden><div class=\"sk-item\"><div class=\"sk-estimator sk-toggleable\"><input class=\"sk-toggleable__control sk-hidden--visually\" id=\"sk-estimator-id-9\" type=\"checkbox\" checked><label for=\"sk-estimator-id-9\" class=\"sk-toggleable__label sk-toggleable__label-arrow\">LabelEncoder</label><div class=\"sk-toggleable__content\"><pre>LabelEncoder()</pre></div></div></div></div></div>"
      ],
      "text/plain": [
       "LabelEncoder()"
      ]
     },
     "execution_count": 63,
     "metadata": {},
     "output_type": "execute_result"
    }
   ],
   "source": [
    "#Label Encoding\n",
    "from sklearn.preprocessing import  LabelEncoder\n",
    "\n",
    "le = LabelEncoder()\n",
    "\n",
    "le.fit(y_train)\n",
    "\n"
   ]
  },
  {
   "cell_type": "code",
   "execution_count": 64,
   "id": "1e1c0df8-3819-407b-b692-4897c4f8d3d7",
   "metadata": {},
   "outputs": [],
   "source": [
    "data['play'] = le.transform(data.iloc[:,-1].values)"
   ]
  },
  {
   "cell_type": "code",
   "execution_count": 65,
   "id": "d5bc333c-087c-40c8-9549-9a94bcefc449",
   "metadata": {},
   "outputs": [
    {
     "data": {
      "text/html": [
       "<div>\n",
       "<style scoped>\n",
       "    .dataframe tbody tr th:only-of-type {\n",
       "        vertical-align: middle;\n",
       "    }\n",
       "\n",
       "    .dataframe tbody tr th {\n",
       "        vertical-align: top;\n",
       "    }\n",
       "\n",
       "    .dataframe thead th {\n",
       "        text-align: right;\n",
       "    }\n",
       "</style>\n",
       "<table border=\"1\" class=\"dataframe\">\n",
       "  <thead>\n",
       "    <tr style=\"text-align: right;\">\n",
       "      <th></th>\n",
       "      <th>day</th>\n",
       "      <th>outlook</th>\n",
       "      <th>temp</th>\n",
       "      <th>humidity</th>\n",
       "      <th>wind</th>\n",
       "      <th>play</th>\n",
       "    </tr>\n",
       "  </thead>\n",
       "  <tbody>\n",
       "    <tr>\n",
       "      <th>0</th>\n",
       "      <td>D1</td>\n",
       "      <td>Sunny</td>\n",
       "      <td>2.0</td>\n",
       "      <td>1.0</td>\n",
       "      <td>0.0</td>\n",
       "      <td>0</td>\n",
       "    </tr>\n",
       "    <tr>\n",
       "      <th>1</th>\n",
       "      <td>D2</td>\n",
       "      <td>Sunny</td>\n",
       "      <td>2.0</td>\n",
       "      <td>1.0</td>\n",
       "      <td>1.0</td>\n",
       "      <td>0</td>\n",
       "    </tr>\n",
       "    <tr>\n",
       "      <th>2</th>\n",
       "      <td>D3</td>\n",
       "      <td>Overcast</td>\n",
       "      <td>2.0</td>\n",
       "      <td>1.0</td>\n",
       "      <td>0.0</td>\n",
       "      <td>1</td>\n",
       "    </tr>\n",
       "    <tr>\n",
       "      <th>3</th>\n",
       "      <td>D4</td>\n",
       "      <td>Rain</td>\n",
       "      <td>1.0</td>\n",
       "      <td>1.0</td>\n",
       "      <td>0.0</td>\n",
       "      <td>1</td>\n",
       "    </tr>\n",
       "    <tr>\n",
       "      <th>4</th>\n",
       "      <td>D5</td>\n",
       "      <td>Rain</td>\n",
       "      <td>0.0</td>\n",
       "      <td>0.0</td>\n",
       "      <td>0.0</td>\n",
       "      <td>1</td>\n",
       "    </tr>\n",
       "  </tbody>\n",
       "</table>\n",
       "</div>"
      ],
      "text/plain": [
       "  day   outlook  temp  humidity  wind  play\n",
       "0  D1     Sunny   2.0       1.0   0.0     0\n",
       "1  D2     Sunny   2.0       1.0   1.0     0\n",
       "2  D3  Overcast   2.0       1.0   0.0     1\n",
       "3  D4      Rain   1.0       1.0   0.0     1\n",
       "4  D5      Rain   0.0       0.0   0.0     1"
      ]
     },
     "execution_count": 65,
     "metadata": {},
     "output_type": "execute_result"
    }
   ],
   "source": [
    "data.head()"
   ]
  },
  {
   "cell_type": "code",
   "execution_count": 66,
   "id": "a9cd72fd-6846-4dd0-83c8-72c8e22d2f41",
   "metadata": {},
   "outputs": [
    {
     "data": {
      "text/plain": [
       "outlook\n",
       "Sunny       5\n",
       "Rain        5\n",
       "Overcast    4\n",
       "Name: count, dtype: int64"
      ]
     },
     "execution_count": 66,
     "metadata": {},
     "output_type": "execute_result"
    }
   ],
   "source": [
    "#one hot encoding\n",
    "data['outlook'].value_counts()\n",
    "\n"
   ]
  },
  {
   "cell_type": "code",
   "execution_count": 67,
   "id": "cb4978d8-8a36-42f4-a04d-f7170e2676c2",
   "metadata": {},
   "outputs": [],
   "source": [
    "#pandas \n",
    "datap = pd.get_dummies(data,columns=['outlook'],drop_first=True)"
   ]
  },
  {
   "cell_type": "code",
   "execution_count": 68,
   "id": "6f2f8b0b-2f4b-446f-a297-4f2fed682d2e",
   "metadata": {},
   "outputs": [
    {
     "data": {
      "text/html": [
       "<div>\n",
       "<style scoped>\n",
       "    .dataframe tbody tr th:only-of-type {\n",
       "        vertical-align: middle;\n",
       "    }\n",
       "\n",
       "    .dataframe tbody tr th {\n",
       "        vertical-align: top;\n",
       "    }\n",
       "\n",
       "    .dataframe thead th {\n",
       "        text-align: right;\n",
       "    }\n",
       "</style>\n",
       "<table border=\"1\" class=\"dataframe\">\n",
       "  <thead>\n",
       "    <tr style=\"text-align: right;\">\n",
       "      <th></th>\n",
       "      <th>day</th>\n",
       "      <th>temp</th>\n",
       "      <th>humidity</th>\n",
       "      <th>wind</th>\n",
       "      <th>play</th>\n",
       "      <th>outlook_Rain</th>\n",
       "      <th>outlook_Sunny</th>\n",
       "    </tr>\n",
       "  </thead>\n",
       "  <tbody>\n",
       "    <tr>\n",
       "      <th>0</th>\n",
       "      <td>D1</td>\n",
       "      <td>2.0</td>\n",
       "      <td>1.0</td>\n",
       "      <td>0.0</td>\n",
       "      <td>0</td>\n",
       "      <td>False</td>\n",
       "      <td>True</td>\n",
       "    </tr>\n",
       "    <tr>\n",
       "      <th>1</th>\n",
       "      <td>D2</td>\n",
       "      <td>2.0</td>\n",
       "      <td>1.0</td>\n",
       "      <td>1.0</td>\n",
       "      <td>0</td>\n",
       "      <td>False</td>\n",
       "      <td>True</td>\n",
       "    </tr>\n",
       "    <tr>\n",
       "      <th>2</th>\n",
       "      <td>D3</td>\n",
       "      <td>2.0</td>\n",
       "      <td>1.0</td>\n",
       "      <td>0.0</td>\n",
       "      <td>1</td>\n",
       "      <td>False</td>\n",
       "      <td>False</td>\n",
       "    </tr>\n",
       "    <tr>\n",
       "      <th>3</th>\n",
       "      <td>D4</td>\n",
       "      <td>1.0</td>\n",
       "      <td>1.0</td>\n",
       "      <td>0.0</td>\n",
       "      <td>1</td>\n",
       "      <td>True</td>\n",
       "      <td>False</td>\n",
       "    </tr>\n",
       "    <tr>\n",
       "      <th>4</th>\n",
       "      <td>D5</td>\n",
       "      <td>0.0</td>\n",
       "      <td>0.0</td>\n",
       "      <td>0.0</td>\n",
       "      <td>1</td>\n",
       "      <td>True</td>\n",
       "      <td>False</td>\n",
       "    </tr>\n",
       "  </tbody>\n",
       "</table>\n",
       "</div>"
      ],
      "text/plain": [
       "  day  temp  humidity  wind  play  outlook_Rain  outlook_Sunny\n",
       "0  D1   2.0       1.0   0.0     0         False           True\n",
       "1  D2   2.0       1.0   1.0     0         False           True\n",
       "2  D3   2.0       1.0   0.0     1         False          False\n",
       "3  D4   1.0       1.0   0.0     1          True          False\n",
       "4  D5   0.0       0.0   0.0     1          True          False"
      ]
     },
     "execution_count": 68,
     "metadata": {},
     "output_type": "execute_result"
    }
   ],
   "source": [
    "datap.head()"
   ]
  },
  {
   "cell_type": "code",
   "execution_count": 76,
   "id": "12cf204c-2c57-426b-9f69-a9001a18edd1",
   "metadata": {},
   "outputs": [
    {
     "data": {
      "text/html": [
       "<style>#sk-container-id-12 {color: black;}#sk-container-id-12 pre{padding: 0;}#sk-container-id-12 div.sk-toggleable {background-color: white;}#sk-container-id-12 label.sk-toggleable__label {cursor: pointer;display: block;width: 100%;margin-bottom: 0;padding: 0.3em;box-sizing: border-box;text-align: center;}#sk-container-id-12 label.sk-toggleable__label-arrow:before {content: \"▸\";float: left;margin-right: 0.25em;color: #696969;}#sk-container-id-12 label.sk-toggleable__label-arrow:hover:before {color: black;}#sk-container-id-12 div.sk-estimator:hover label.sk-toggleable__label-arrow:before {color: black;}#sk-container-id-12 div.sk-toggleable__content {max-height: 0;max-width: 0;overflow: hidden;text-align: left;background-color: #f0f8ff;}#sk-container-id-12 div.sk-toggleable__content pre {margin: 0.2em;color: black;border-radius: 0.25em;background-color: #f0f8ff;}#sk-container-id-12 input.sk-toggleable__control:checked~div.sk-toggleable__content {max-height: 200px;max-width: 100%;overflow: auto;}#sk-container-id-12 input.sk-toggleable__control:checked~label.sk-toggleable__label-arrow:before {content: \"▾\";}#sk-container-id-12 div.sk-estimator input.sk-toggleable__control:checked~label.sk-toggleable__label {background-color: #d4ebff;}#sk-container-id-12 div.sk-label input.sk-toggleable__control:checked~label.sk-toggleable__label {background-color: #d4ebff;}#sk-container-id-12 input.sk-hidden--visually {border: 0;clip: rect(1px 1px 1px 1px);clip: rect(1px, 1px, 1px, 1px);height: 1px;margin: -1px;overflow: hidden;padding: 0;position: absolute;width: 1px;}#sk-container-id-12 div.sk-estimator {font-family: monospace;background-color: #f0f8ff;border: 1px dotted black;border-radius: 0.25em;box-sizing: border-box;margin-bottom: 0.5em;}#sk-container-id-12 div.sk-estimator:hover {background-color: #d4ebff;}#sk-container-id-12 div.sk-parallel-item::after {content: \"\";width: 100%;border-bottom: 1px solid gray;flex-grow: 1;}#sk-container-id-12 div.sk-label:hover label.sk-toggleable__label {background-color: #d4ebff;}#sk-container-id-12 div.sk-serial::before {content: \"\";position: absolute;border-left: 1px solid gray;box-sizing: border-box;top: 0;bottom: 0;left: 50%;z-index: 0;}#sk-container-id-12 div.sk-serial {display: flex;flex-direction: column;align-items: center;background-color: white;padding-right: 0.2em;padding-left: 0.2em;position: relative;}#sk-container-id-12 div.sk-item {position: relative;z-index: 1;}#sk-container-id-12 div.sk-parallel {display: flex;align-items: stretch;justify-content: center;background-color: white;position: relative;}#sk-container-id-12 div.sk-item::before, #sk-container-id-12 div.sk-parallel-item::before {content: \"\";position: absolute;border-left: 1px solid gray;box-sizing: border-box;top: 0;bottom: 0;left: 50%;z-index: -1;}#sk-container-id-12 div.sk-parallel-item {display: flex;flex-direction: column;z-index: 1;position: relative;background-color: white;}#sk-container-id-12 div.sk-parallel-item:first-child::after {align-self: flex-end;width: 50%;}#sk-container-id-12 div.sk-parallel-item:last-child::after {align-self: flex-start;width: 50%;}#sk-container-id-12 div.sk-parallel-item:only-child::after {width: 0;}#sk-container-id-12 div.sk-dashed-wrapped {border: 1px dashed gray;margin: 0 0.4em 0.5em 0.4em;box-sizing: border-box;padding-bottom: 0.4em;background-color: white;}#sk-container-id-12 div.sk-label label {font-family: monospace;font-weight: bold;display: inline-block;line-height: 1.2em;}#sk-container-id-12 div.sk-label-container {text-align: center;}#sk-container-id-12 div.sk-container {/* jupyter's `normalize.less` sets `[hidden] { display: none; }` but bootstrap.min.css set `[hidden] { display: none !important; }` so we also need the `!important` here to be able to override the default hidden behavior on the sphinx rendered scikit-learn.org. See: https://github.com/scikit-learn/scikit-learn/issues/21755 */display: inline-block !important;position: relative;}#sk-container-id-12 div.sk-text-repr-fallback {display: none;}</style><div id=\"sk-container-id-12\" class=\"sk-top-container\"><div class=\"sk-text-repr-fallback\"><pre>OneHotEncoder()</pre><b>In a Jupyter environment, please rerun this cell to show the HTML representation or trust the notebook. <br />On GitHub, the HTML representation is unable to render, please try loading this page with nbviewer.org.</b></div><div class=\"sk-container\" hidden><div class=\"sk-item\"><div class=\"sk-estimator sk-toggleable\"><input class=\"sk-toggleable__control sk-hidden--visually\" id=\"sk-estimator-id-12\" type=\"checkbox\" checked><label for=\"sk-estimator-id-12\" class=\"sk-toggleable__label sk-toggleable__label-arrow\">OneHotEncoder</label><div class=\"sk-toggleable__content\"><pre>OneHotEncoder()</pre></div></div></div></div></div>"
      ],
      "text/plain": [
       "OneHotEncoder()"
      ]
     },
     "execution_count": 76,
     "metadata": {},
     "output_type": "execute_result"
    }
   ],
   "source": [
    "#sklearn\n",
    "from sklearn.preprocessing import OneHotEncoder\n",
    "\n",
    "data_encode = data[['outlook']]\n",
    "\n",
    "ohe = OneHotEncoder()\n",
    "ohe\n"
   ]
  },
  {
   "cell_type": "code",
   "execution_count": 95,
   "id": "3bc9fc7e-4905-4835-8c55-61adcac08dd1",
   "metadata": {},
   "outputs": [],
   "source": [
    "outlook_arr = ohe.fit_transform(data_encode).toarray()"
   ]
  },
  {
   "cell_type": "code",
   "execution_count": 94,
   "id": "f1280e01-5fc1-4180-a8f9-c47efe036c54",
   "metadata": {},
   "outputs": [],
   "source": [
    "outlook_cat = data['outlook'].unique()"
   ]
  },
  {
   "cell_type": "code",
   "execution_count": 112,
   "id": "336920f6-36dc-430d-9197-1a89721e019d",
   "metadata": {},
   "outputs": [
    {
     "data": {
      "text/html": [
       "<div>\n",
       "<style scoped>\n",
       "    .dataframe tbody tr th:only-of-type {\n",
       "        vertical-align: middle;\n",
       "    }\n",
       "\n",
       "    .dataframe tbody tr th {\n",
       "        vertical-align: top;\n",
       "    }\n",
       "\n",
       "    .dataframe thead th {\n",
       "        text-align: right;\n",
       "    }\n",
       "</style>\n",
       "<table border=\"1\" class=\"dataframe\">\n",
       "  <thead>\n",
       "    <tr style=\"text-align: right;\">\n",
       "      <th></th>\n",
       "      <th>Sunny</th>\n",
       "      <th>Overcast</th>\n",
       "      <th>Rain</th>\n",
       "    </tr>\n",
       "  </thead>\n",
       "  <tbody>\n",
       "    <tr>\n",
       "      <th>0</th>\n",
       "      <td>0.0</td>\n",
       "      <td>0.0</td>\n",
       "      <td>1.0</td>\n",
       "    </tr>\n",
       "    <tr>\n",
       "      <th>1</th>\n",
       "      <td>0.0</td>\n",
       "      <td>0.0</td>\n",
       "      <td>1.0</td>\n",
       "    </tr>\n",
       "    <tr>\n",
       "      <th>2</th>\n",
       "      <td>1.0</td>\n",
       "      <td>0.0</td>\n",
       "      <td>0.0</td>\n",
       "    </tr>\n",
       "    <tr>\n",
       "      <th>3</th>\n",
       "      <td>0.0</td>\n",
       "      <td>1.0</td>\n",
       "      <td>0.0</td>\n",
       "    </tr>\n",
       "    <tr>\n",
       "      <th>4</th>\n",
       "      <td>0.0</td>\n",
       "      <td>1.0</td>\n",
       "      <td>0.0</td>\n",
       "    </tr>\n",
       "  </tbody>\n",
       "</table>\n",
       "</div>"
      ],
      "text/plain": [
       "   Sunny  Overcast  Rain\n",
       "0    0.0       0.0   1.0\n",
       "1    0.0       0.0   1.0\n",
       "2    1.0       0.0   0.0\n",
       "3    0.0       1.0   0.0\n",
       "4    0.0       1.0   0.0"
      ]
     },
     "execution_count": 112,
     "metadata": {},
     "output_type": "execute_result"
    }
   ],
   "source": [
    "new_encoded_data = pd.DataFrame(outlook_arr,columns = outlook_cat)\n",
    "\n",
    "new_encoded_data.head()"
   ]
  },
  {
   "cell_type": "code",
   "execution_count": 103,
   "id": "6837ce0c-3805-43a9-8f0a-27e9dadf7ed4",
   "metadata": {},
   "outputs": [],
   "source": [
    "data = data.drop('outlook',axis=1)"
   ]
  },
  {
   "cell_type": "code",
   "execution_count": 104,
   "id": "bfdd4e5f-4041-4667-a18d-cb710ef92e55",
   "metadata": {},
   "outputs": [
    {
     "data": {
      "text/html": [
       "<div>\n",
       "<style scoped>\n",
       "    .dataframe tbody tr th:only-of-type {\n",
       "        vertical-align: middle;\n",
       "    }\n",
       "\n",
       "    .dataframe tbody tr th {\n",
       "        vertical-align: top;\n",
       "    }\n",
       "\n",
       "    .dataframe thead th {\n",
       "        text-align: right;\n",
       "    }\n",
       "</style>\n",
       "<table border=\"1\" class=\"dataframe\">\n",
       "  <thead>\n",
       "    <tr style=\"text-align: right;\">\n",
       "      <th></th>\n",
       "      <th>day</th>\n",
       "      <th>temp</th>\n",
       "      <th>humidity</th>\n",
       "      <th>wind</th>\n",
       "      <th>play</th>\n",
       "    </tr>\n",
       "  </thead>\n",
       "  <tbody>\n",
       "    <tr>\n",
       "      <th>0</th>\n",
       "      <td>D1</td>\n",
       "      <td>2.0</td>\n",
       "      <td>1.0</td>\n",
       "      <td>0.0</td>\n",
       "      <td>0</td>\n",
       "    </tr>\n",
       "    <tr>\n",
       "      <th>1</th>\n",
       "      <td>D2</td>\n",
       "      <td>2.0</td>\n",
       "      <td>1.0</td>\n",
       "      <td>1.0</td>\n",
       "      <td>0</td>\n",
       "    </tr>\n",
       "    <tr>\n",
       "      <th>2</th>\n",
       "      <td>D3</td>\n",
       "      <td>2.0</td>\n",
       "      <td>1.0</td>\n",
       "      <td>0.0</td>\n",
       "      <td>1</td>\n",
       "    </tr>\n",
       "    <tr>\n",
       "      <th>3</th>\n",
       "      <td>D4</td>\n",
       "      <td>1.0</td>\n",
       "      <td>1.0</td>\n",
       "      <td>0.0</td>\n",
       "      <td>1</td>\n",
       "    </tr>\n",
       "    <tr>\n",
       "      <th>4</th>\n",
       "      <td>D5</td>\n",
       "      <td>0.0</td>\n",
       "      <td>0.0</td>\n",
       "      <td>0.0</td>\n",
       "      <td>1</td>\n",
       "    </tr>\n",
       "  </tbody>\n",
       "</table>\n",
       "</div>"
      ],
      "text/plain": [
       "  day  temp  humidity  wind  play\n",
       "0  D1   2.0       1.0   0.0     0\n",
       "1  D2   2.0       1.0   1.0     0\n",
       "2  D3   2.0       1.0   0.0     1\n",
       "3  D4   1.0       1.0   0.0     1\n",
       "4  D5   0.0       0.0   0.0     1"
      ]
     },
     "execution_count": 104,
     "metadata": {},
     "output_type": "execute_result"
    }
   ],
   "source": [
    "data.head()"
   ]
  },
  {
   "cell_type": "code",
   "execution_count": 115,
   "id": "b407ab0d-2b8c-4250-988d-ce99db751789",
   "metadata": {},
   "outputs": [],
   "source": [
    "data_sk = pd.concat([data,new_encoded_data],axis=1)"
   ]
  },
  {
   "cell_type": "code",
   "execution_count": 117,
   "id": "ee5089bd-77f8-41ef-8fbd-9f9977e5906f",
   "metadata": {},
   "outputs": [
    {
     "data": {
      "text/html": [
       "<div>\n",
       "<style scoped>\n",
       "    .dataframe tbody tr th:only-of-type {\n",
       "        vertical-align: middle;\n",
       "    }\n",
       "\n",
       "    .dataframe tbody tr th {\n",
       "        vertical-align: top;\n",
       "    }\n",
       "\n",
       "    .dataframe thead th {\n",
       "        text-align: right;\n",
       "    }\n",
       "</style>\n",
       "<table border=\"1\" class=\"dataframe\">\n",
       "  <thead>\n",
       "    <tr style=\"text-align: right;\">\n",
       "      <th></th>\n",
       "      <th>day</th>\n",
       "      <th>temp</th>\n",
       "      <th>humidity</th>\n",
       "      <th>wind</th>\n",
       "      <th>play</th>\n",
       "      <th>Sunny</th>\n",
       "      <th>Overcast</th>\n",
       "      <th>Rain</th>\n",
       "    </tr>\n",
       "  </thead>\n",
       "  <tbody>\n",
       "    <tr>\n",
       "      <th>0</th>\n",
       "      <td>D1</td>\n",
       "      <td>2.0</td>\n",
       "      <td>1.0</td>\n",
       "      <td>0.0</td>\n",
       "      <td>0</td>\n",
       "      <td>0.0</td>\n",
       "      <td>0.0</td>\n",
       "      <td>1.0</td>\n",
       "    </tr>\n",
       "    <tr>\n",
       "      <th>1</th>\n",
       "      <td>D2</td>\n",
       "      <td>2.0</td>\n",
       "      <td>1.0</td>\n",
       "      <td>1.0</td>\n",
       "      <td>0</td>\n",
       "      <td>0.0</td>\n",
       "      <td>0.0</td>\n",
       "      <td>1.0</td>\n",
       "    </tr>\n",
       "    <tr>\n",
       "      <th>2</th>\n",
       "      <td>D3</td>\n",
       "      <td>2.0</td>\n",
       "      <td>1.0</td>\n",
       "      <td>0.0</td>\n",
       "      <td>1</td>\n",
       "      <td>1.0</td>\n",
       "      <td>0.0</td>\n",
       "      <td>0.0</td>\n",
       "    </tr>\n",
       "    <tr>\n",
       "      <th>3</th>\n",
       "      <td>D4</td>\n",
       "      <td>1.0</td>\n",
       "      <td>1.0</td>\n",
       "      <td>0.0</td>\n",
       "      <td>1</td>\n",
       "      <td>0.0</td>\n",
       "      <td>1.0</td>\n",
       "      <td>0.0</td>\n",
       "    </tr>\n",
       "    <tr>\n",
       "      <th>4</th>\n",
       "      <td>D5</td>\n",
       "      <td>0.0</td>\n",
       "      <td>0.0</td>\n",
       "      <td>0.0</td>\n",
       "      <td>1</td>\n",
       "      <td>0.0</td>\n",
       "      <td>1.0</td>\n",
       "      <td>0.0</td>\n",
       "    </tr>\n",
       "  </tbody>\n",
       "</table>\n",
       "</div>"
      ],
      "text/plain": [
       "  day  temp  humidity  wind  play  Sunny  Overcast  Rain\n",
       "0  D1   2.0       1.0   0.0     0    0.0       0.0   1.0\n",
       "1  D2   2.0       1.0   1.0     0    0.0       0.0   1.0\n",
       "2  D3   2.0       1.0   0.0     1    1.0       0.0   0.0\n",
       "3  D4   1.0       1.0   0.0     1    0.0       1.0   0.0\n",
       "4  D5   0.0       0.0   0.0     1    0.0       1.0   0.0"
      ]
     },
     "execution_count": 117,
     "metadata": {},
     "output_type": "execute_result"
    }
   ],
   "source": [
    "data_sk.head()"
   ]
  },
  {
   "cell_type": "markdown",
   "id": "4e7aa445-7296-4b4e-b04c-2ad240364bd6",
   "metadata": {},
   "source": [
    "Working Feature importance using Decision tree"
   ]
  },
  {
   "cell_type": "code",
   "execution_count": 125,
   "id": "337d05d1-ded1-4120-b420-d49dd3e6a908",
   "metadata": {},
   "outputs": [],
   "source": [
    "from sklearn.tree import DecisionTreeClassifier,plot_tree\n",
    "from sklearn.model_selection import train_test_split\n",
    "\n",
    "clf =DecisionTreeClassifier()\n",
    "\n",
    "x = data_sk.iloc[:,1:-1].values\n",
    "y = data_sk.iloc[:,-1].values\n",
    "x_train,x_test,y_train,y_test = train_test_split(x,y,test_size=0.2)\n"
   ]
  },
  {
   "cell_type": "code",
   "execution_count": 142,
   "id": "096e55e7-d814-46fd-a260-aa4d201a7a68",
   "metadata": {},
   "outputs": [
    {
     "data": {
      "text/html": [
       "<style>#sk-container-id-16 {color: black;}#sk-container-id-16 pre{padding: 0;}#sk-container-id-16 div.sk-toggleable {background-color: white;}#sk-container-id-16 label.sk-toggleable__label {cursor: pointer;display: block;width: 100%;margin-bottom: 0;padding: 0.3em;box-sizing: border-box;text-align: center;}#sk-container-id-16 label.sk-toggleable__label-arrow:before {content: \"▸\";float: left;margin-right: 0.25em;color: #696969;}#sk-container-id-16 label.sk-toggleable__label-arrow:hover:before {color: black;}#sk-container-id-16 div.sk-estimator:hover label.sk-toggleable__label-arrow:before {color: black;}#sk-container-id-16 div.sk-toggleable__content {max-height: 0;max-width: 0;overflow: hidden;text-align: left;background-color: #f0f8ff;}#sk-container-id-16 div.sk-toggleable__content pre {margin: 0.2em;color: black;border-radius: 0.25em;background-color: #f0f8ff;}#sk-container-id-16 input.sk-toggleable__control:checked~div.sk-toggleable__content {max-height: 200px;max-width: 100%;overflow: auto;}#sk-container-id-16 input.sk-toggleable__control:checked~label.sk-toggleable__label-arrow:before {content: \"▾\";}#sk-container-id-16 div.sk-estimator input.sk-toggleable__control:checked~label.sk-toggleable__label {background-color: #d4ebff;}#sk-container-id-16 div.sk-label input.sk-toggleable__control:checked~label.sk-toggleable__label {background-color: #d4ebff;}#sk-container-id-16 input.sk-hidden--visually {border: 0;clip: rect(1px 1px 1px 1px);clip: rect(1px, 1px, 1px, 1px);height: 1px;margin: -1px;overflow: hidden;padding: 0;position: absolute;width: 1px;}#sk-container-id-16 div.sk-estimator {font-family: monospace;background-color: #f0f8ff;border: 1px dotted black;border-radius: 0.25em;box-sizing: border-box;margin-bottom: 0.5em;}#sk-container-id-16 div.sk-estimator:hover {background-color: #d4ebff;}#sk-container-id-16 div.sk-parallel-item::after {content: \"\";width: 100%;border-bottom: 1px solid gray;flex-grow: 1;}#sk-container-id-16 div.sk-label:hover label.sk-toggleable__label {background-color: #d4ebff;}#sk-container-id-16 div.sk-serial::before {content: \"\";position: absolute;border-left: 1px solid gray;box-sizing: border-box;top: 0;bottom: 0;left: 50%;z-index: 0;}#sk-container-id-16 div.sk-serial {display: flex;flex-direction: column;align-items: center;background-color: white;padding-right: 0.2em;padding-left: 0.2em;position: relative;}#sk-container-id-16 div.sk-item {position: relative;z-index: 1;}#sk-container-id-16 div.sk-parallel {display: flex;align-items: stretch;justify-content: center;background-color: white;position: relative;}#sk-container-id-16 div.sk-item::before, #sk-container-id-16 div.sk-parallel-item::before {content: \"\";position: absolute;border-left: 1px solid gray;box-sizing: border-box;top: 0;bottom: 0;left: 50%;z-index: -1;}#sk-container-id-16 div.sk-parallel-item {display: flex;flex-direction: column;z-index: 1;position: relative;background-color: white;}#sk-container-id-16 div.sk-parallel-item:first-child::after {align-self: flex-end;width: 50%;}#sk-container-id-16 div.sk-parallel-item:last-child::after {align-self: flex-start;width: 50%;}#sk-container-id-16 div.sk-parallel-item:only-child::after {width: 0;}#sk-container-id-16 div.sk-dashed-wrapped {border: 1px dashed gray;margin: 0 0.4em 0.5em 0.4em;box-sizing: border-box;padding-bottom: 0.4em;background-color: white;}#sk-container-id-16 div.sk-label label {font-family: monospace;font-weight: bold;display: inline-block;line-height: 1.2em;}#sk-container-id-16 div.sk-label-container {text-align: center;}#sk-container-id-16 div.sk-container {/* jupyter's `normalize.less` sets `[hidden] { display: none; }` but bootstrap.min.css set `[hidden] { display: none !important; }` so we also need the `!important` here to be able to override the default hidden behavior on the sphinx rendered scikit-learn.org. See: https://github.com/scikit-learn/scikit-learn/issues/21755 */display: inline-block !important;position: relative;}#sk-container-id-16 div.sk-text-repr-fallback {display: none;}</style><div id=\"sk-container-id-16\" class=\"sk-top-container\"><div class=\"sk-text-repr-fallback\"><pre>DecisionTreeClassifier()</pre><b>In a Jupyter environment, please rerun this cell to show the HTML representation or trust the notebook. <br />On GitHub, the HTML representation is unable to render, please try loading this page with nbviewer.org.</b></div><div class=\"sk-container\" hidden><div class=\"sk-item\"><div class=\"sk-estimator sk-toggleable\"><input class=\"sk-toggleable__control sk-hidden--visually\" id=\"sk-estimator-id-16\" type=\"checkbox\" checked><label for=\"sk-estimator-id-16\" class=\"sk-toggleable__label sk-toggleable__label-arrow\">DecisionTreeClassifier</label><div class=\"sk-toggleable__content\"><pre>DecisionTreeClassifier()</pre></div></div></div></div></div>"
      ],
      "text/plain": [
       "DecisionTreeClassifier()"
      ]
     },
     "execution_count": 142,
     "metadata": {},
     "output_type": "execute_result"
    }
   ],
   "source": [
    "clf.fit(x_train,y_train)\n"
   ]
  },
  {
   "cell_type": "code",
   "execution_count": 143,
   "id": "1aec62e0-f045-4edf-82c0-fd8cfd868e27",
   "metadata": {
    "scrolled": true
   },
   "outputs": [
    {
     "data": {
      "text/plain": [
       "[Text(0.5, 0.875, 'x[3] <= 0.5\\ngini = 0.463\\nsamples = 11\\nvalue = [7, 4]'),\n",
       " Text(0.25, 0.625, 'x[5] <= 0.5\\ngini = 0.375\\nsamples = 4\\nvalue = [1, 3]'),\n",
       " Text(0.125, 0.375, 'gini = 0.0\\nsamples = 3\\nvalue = [0, 3]'),\n",
       " Text(0.375, 0.375, 'gini = 0.0\\nsamples = 1\\nvalue = [1, 0]'),\n",
       " Text(0.75, 0.625, 'x[0] <= 0.5\\ngini = 0.245\\nsamples = 7\\nvalue = [6, 1]'),\n",
       " Text(0.625, 0.375, 'x[2] <= 0.5\\ngini = 0.5\\nsamples = 2\\nvalue = [1, 1]'),\n",
       " Text(0.5, 0.125, 'gini = 0.0\\nsamples = 1\\nvalue = [0, 1]'),\n",
       " Text(0.75, 0.125, 'gini = 0.0\\nsamples = 1\\nvalue = [1, 0]'),\n",
       " Text(0.875, 0.375, 'gini = 0.0\\nsamples = 5\\nvalue = [5, 0]')]"
      ]
     },
     "execution_count": 143,
     "metadata": {},
     "output_type": "execute_result"
    },
    {
     "data": {
      "image/png": "[encoded data removed]",
      "text/plain": [
       "<Figure size 640x480 with 1 Axes>"
      ]
     },
     "metadata": {},
     "output_type": "display_data"
    }
   ],
   "source": [
    "plot_tree(clf)"
   ]
  },
  {
   "cell_type": "raw",
   "id": "ea489184-b66e-410a-976d-3a8d4c0f31dc",
   "metadata": {},
   "source": [
    "formula to find importance of feature\n",
    "n_t = no_sample each node\n",
    "ni = N_t/N *(impurity - N_t_r/N_t*(right_impurity)-N_t_l/N_t*(left_impurity)) here impurity means gini\n",
    "\n",
    "fik = sum of ni of spliten by that feture/sum all ni"
   ]
  },
  {
   "cell_type": "code",
   "execution_count": 144,
   "id": "9dc5c24c-e09b-471a-b6fa-45a7ea5ad050",
   "metadata": {},
   "outputs": [],
   "source": [
    "n3 = 11/11*(0.463 - 7/11*(0.245)-4/11*(0.375))\n",
    "n0 = 7/11*(0.245 - 2/7*(0.5)-0)\n",
    "n2 = 2/11*(0.5)\n",
    "n5 = 4/11*(0.375)"
   ]
  },
  {
   "cell_type": "code",
   "execution_count": 145,
   "id": "72c0c12d-7ddb-461b-a552-de877a631d15",
   "metadata": {},
   "outputs": [
    {
     "data": {
      "text/plain": [
       "array([0.18193384, 0.        , 0.25445293, 0.4778626 , 0.        ,\n",
       "       0.38167939])"
      ]
     },
     "execution_count": 145,
     "metadata": {},
     "output_type": "execute_result"
    }
   ],
   "source": [
    "n = n0+n0+n2+n5\n",
    "N = np.array([n0,0,n2,n3,0,n5])\n",
    "\n",
    "calculte_feature_importances = N/n\n",
    "calculte_feature_importances"
   ]
  },
  {
   "cell_type": "code",
   "execution_count": 146,
   "id": "eaf9ac81-65df-4f2c-b3bd-e3ef14161840",
   "metadata": {},
   "outputs": [
    {
     "data": {
      "text/plain": [
       "array([0.14030612, 0.        , 0.19642857, 0.36862245, 0.        ,\n",
       "       0.29464286])"
      ]
     },
     "execution_count": 146,
     "metadata": {},
     "output_type": "execute_result"
    }
   ],
   "source": [
    "clf.feature_importances_"
   ]
  },
  {
   "cell_type": "code",
   "execution_count": null,
   "id": "51e59db8-2be7-4e66-ab67-4e40316c51c9",
   "metadata": {},
   "outputs": [],
   "source": []
  },
  {
   "cell_type": "code",
   "execution_count": null,
   "id": "5be4cad1-476f-41a6-b9a3-b80058bbc5b9",
   "metadata": {},
   "outputs": [],
   "source": [
    " "
   ]
  }
 ],
 "metadata": {
  "kernelspec": {
   "display_name": "Python 3 (ipykernel)",
   "language": "python",
   "name": "python3"
  },
  "language_info": {
   "codemirror_mode": {
    "name": "ipython",
    "version": 3
   },
   "file_extension": ".py",
   "mimetype": "text/x-python",
   "name": "python",
   "nbconvert_exporter": "python",
   "pygments_lexer": "ipython3",
   "version": "3.11.4"
  }
 },
 "nbformat": 4,
 "nbformat_minor": 5
}
