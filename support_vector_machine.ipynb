{
 "cells": [
  {
   "cell_type": "code",
   "execution_count": 2,
   "id": "375eb255-868a-4c9f-9bf9-5e0e62521a43",
   "metadata": {},
   "outputs": [],
   "source": [
    "import numpy as np"
   ]
  },
  {
   "cell_type": "code",
   "execution_count": 4,
   "id": "cccc0c96-0726-40d1-a0f3-066b051e80fe",
   "metadata": {},
   "outputs": [],
   "source": [
    "class SVM:\n",
    "    def __init__(self,lambda_param = 0.01,learning_rate = 0.01,iter=1000):\n",
    "        self.lambd_params = lamdba_param\n",
    "        self.learning_rate = learning_rate\n",
    "        self.iter = iter\n",
    "        self.W = 0\n",
    "        self.B =0\n",
    "\n",
    "    def fit(self,X,Y):\n",
    "         n_sample,n_fetures= X.shape\n",
    "         self.W = np.zeros(n_fetures)\n",
    "\n",
    "        \n",
    "\n",
    "        for _ in range(self.iter):\n",
    "            for id,x_i in enumerate(X):\n",
    "                condition = y[id]*(np.dot(X_i,self.W)-self.B >=1\n",
    "                if condition:\n",
    "                    self.W = self.W - self.learning_rate * 2*(self.lamdb_params*self.W)\n",
    "                else:\n",
    "                   self.W = self.W -self.learning_rate *(2*self.lamdb_params - np.dot(x_i,Y[id])\n",
    "                   self.B = self.B-self.learning_rate *Y[id]\n",
    "                \n",
    "\n",
    "\n",
    "    def predict(self, X):\n",
    "        approx = np.dot(X, self.w) - self.b\n",
    "        return np.sign(approx)\n",
    "        \n",
    "\n",
    "\n",
    "        \n",
    "    \n",
    "        "
   ]
  },
  {
   "cell_type": "code",
   "execution_count": null,
   "id": "40e5d7f6-d5a0-449c-8377-c20913c91343",
   "metadata": {},
   "outputs": [],
   "source": []
  }
 ],
 "metadata": {
  "kernelspec": {
   "display_name": "Python 3 (ipykernel)",
   "language": "python",
   "name": "python3"
  },
  "language_info": {
   "codemirror_mode": {
    "name": "ipython",
    "version": 3
   },
   "file_extension": ".py",
   "mimetype": "text/x-python",
   "name": "python",
   "nbconvert_exporter": "python",
   "pygments_lexer": "ipython3",
   "version": "3.11.4"
  }
 },
 "nbformat": 4,
 "nbformat_minor": 5
}
