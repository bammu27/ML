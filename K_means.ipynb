{
 "cells": [
  {
   "cell_type": "code",
   "execution_count": 1,
   "id": "91a0f791-fdc3-4cce-8d47-3dd1086147e9",
   "metadata": {},
   "outputs": [],
   "source": [
    "from sklearn.datasets import make_blobs\n",
    "import pandas as pd\n",
    "import numpy as np\n",
    "import matplotlib.pyplot as plt"
   ]
  },
  {
   "cell_type": "raw",
   "id": "9fc3dca5-8c50-4f32-9b22-b0146ea821e5",
   "metadata": {},
   "source": [
    "1 decide n clustres\n",
    "2 intialize clustres\n",
    "3 Assign clustres\n",
    "4 move centroids\n",
    "5 finish"
   ]
  },
  {
   "cell_type": "code",
   "execution_count": 2,
   "id": "e365b370-1a5f-42a7-be31-48a4d7165805",
   "metadata": {},
   "outputs": [],
   "source": [
    "centroid = [[-3,-3],[3,3]]\n",
    "cluster_std = [1,1]"
   ]
  },
  {
   "cell_type": "code",
   "execution_count": 3,
   "id": "26cdfa42-3cfc-49a8-8513-1bfdca18d48c",
   "metadata": {},
   "outputs": [],
   "source": [
    "X,y = make_blobs(n_samples=100, n_features=2,cluster_std=cluster_std,centers=centroid)"
   ]
  },
  {
   "cell_type": "code",
   "execution_count": 4,
   "id": "e368ba65-54e4-46c0-bb50-d26d76386dd4",
   "metadata": {},
   "outputs": [],
   "source": [
    "class Kmeans:\n",
    "    def __init__ (self,n_clustres,X):\n",
    "        self.no_clustres = n_clustres\n",
    "        self.centroids = []\n",
    "        self.x = X\n",
    "        self.clustres = {0:[],1:[],2:[]}\n",
    "    def centroid_init(self):\n",
    "        self.centroids = self.x[np.random.choice(self.x.shape[0],size = self.no_clustres)]\n",
    "\n",
    "    def eculidian_dist(self,row,i):\n",
    "       return np.sqrt(np.sum(np.square(row-self.centroids[i])))\n",
    "    \n",
    "    def assign_clustres(self):\n",
    "        while True:\n",
    "            for row in self.x:\n",
    "                temp  = []\n",
    "                for i in range(len(self.centroids)):\n",
    "                    temp.append(self.eculidian_dist(row,i))\n",
    "                min_index = np.argmin(temp)\n",
    "                self.clustres[min_index].append(list(row))\n",
    "    \n",
    "            means = []\n",
    "            for key in self.clustres.keys():\n",
    "                arr = np.array(self.clustres[key])\n",
    "                means.append(list(np.mean(arr,axis=0)))\n",
    "    \n",
    "            if np.array_equal(self.centroids,np.array(means)):\n",
    "                break\n",
    "            else:\n",
    "                self.centroids = np.array(means)\n",
    "            \n",
    "                \n",
    "    \n",
    "                \n",
    "        \n",
    "            \n",
    "    "
   ]
  },
  {
   "cell_type": "code",
   "execution_count": 5,
   "id": "ab57a10a-ce64-450e-921b-9e2beb3e2b9e",
   "metadata": {},
   "outputs": [],
   "source": [
    "kmean = Kmeans(3,X)"
   ]
  },
  {
   "cell_type": "code",
   "execution_count": 6,
   "id": "e67dac8e-efd0-467d-bde1-87f984750b8c",
   "metadata": {},
   "outputs": [],
   "source": [
    "kmean.centroid_init()"
   ]
  },
  {
   "cell_type": "code",
   "execution_count": 7,
   "id": "48ce7f99-07a8-498c-8c2d-e3e70dad5de1",
   "metadata": {},
   "outputs": [],
   "source": [
    "kmean.assign_clustres()"
   ]
  },
  {
   "cell_type": "code",
   "execution_count": 8,
   "id": "9c26c0bd-a7b1-4dac-a7a6-f06ea8560b59",
   "metadata": {},
   "outputs": [
    {
     "data": {
      "text/plain": [
       "array([[ 2.86804866,  2.75622455],\n",
       "       [-2.84486184, -3.70405449],\n",
       "       [-3.28830037, -2.01122252]])"
      ]
     },
     "execution_count": 8,
     "metadata": {},
     "output_type": "execute_result"
    }
   ],
   "source": [
    "kmean.centroids"
   ]
  },
  {
   "cell_type": "code",
   "execution_count": null,
   "id": "432c4247-0793-4e3e-a61d-bba71684591d",
   "metadata": {},
   "outputs": [],
   "source": []
  }
 ],
 "metadata": {
  "kernelspec": {
   "display_name": "Python 3 (ipykernel)",
   "language": "python",
   "name": "python3"
  },
  "language_info": {
   "codemirror_mode": {
    "name": "ipython",
    "version": 3
   },
   "file_extension": ".py",
   "mimetype": "text/x-python",
   "name": "python",
   "nbconvert_exporter": "python",
   "pygments_lexer": "ipython3",
   "version": "3.11.4"
  }
 },
 "nbformat": 4,
 "nbformat_minor": 5
}
