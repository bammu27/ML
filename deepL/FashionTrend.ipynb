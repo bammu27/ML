{
 "cells": [
  {
   "cell_type": "code",
   "execution_count": 2,
   "id": "11a75cfb-03b3-4c7b-8c2a-4f42bd463803",
   "metadata": {},
   "outputs": [],
   "source": [
    "import pandas as pd\n",
    "import numpy as np\n",
    "import matplotlib.pyplot as plt\n"
   ]
  },
  {
   "cell_type": "code",
   "execution_count": 4,
   "id": "291dc608-aa00-4a6d-b61e-b05a02c8c45f",
   "metadata": {},
   "outputs": [],
   "source": [
    "from tensorflow.keras import Sequential,datasets,layers"
   ]
  },
  {
   "cell_type": "code",
   "execution_count": 5,
   "id": "0e3e35d6-21e7-4249-88f7-b037658942e0",
   "metadata": {},
   "outputs": [
    {
     "name": "stdout",
     "output_type": "stream",
     "text": [
      "Downloading data from https://storage.googleapis.com/tensorflow/tf-keras-datasets/train-labels-idx1-ubyte.gz\n",
      "29515/29515 [==============================] - 0s 4us/step\n",
      "Downloading data from https://storage.googleapis.com/tensorflow/tf-keras-datasets/train-images-idx3-ubyte.gz\n",
      "26421880/26421880 [==============================] - 6s 0us/step\n",
      "Downloading data from https://storage.googleapis.com/tensorflow/tf-keras-datasets/t10k-labels-idx1-ubyte.gz\n",
      "5148/5148 [==============================] - 0s 0s/step\n",
      "Downloading data from https://storage.googleapis.com/tensorflow/tf-keras-datasets/t10k-images-idx3-ubyte.gz\n",
      "4422102/4422102 [==============================] - 1s 0us/step\n"
     ]
    }
   ],
   "source": [
    "#loading data \n",
    "(x_train, y_train), (x_test, y_test) = datasets.fashion_mnist.load_data()\n"
   ]
  },
  {
   "cell_type": "code",
   "execution_count": 6,
   "id": "1c99c8cf-a98b-446c-aac2-379e8108067b",
   "metadata": {},
   "outputs": [
    {
     "name": "stdout",
     "output_type": "stream",
     "text": [
      "Shape of training  input data:(60000, 28, 28)\n",
      "Shape of training  output data:(60000,)\n",
      "Shape of testing output data:(10000, 28, 28)\n",
      "Shape of testing  output data:(10000,)\n"
     ]
    }
   ],
   "source": [
    "#shape of data \n",
    "print(f\"Shape of training  input data:{x_train.shape}\")\n",
    "print(f\"Shape of training  output data:{y_train.shape}\")\n",
    "print(f\"Shape of testing output data:{x_test.shape}\")\n",
    "print(f\"Shape of testing  output data:{y_test.shape}\")"
   ]
  },
  {
   "cell_type": "code",
   "execution_count": 15,
   "id": "b93de82f-6e08-4867-8038-d9133c28369e",
   "metadata": {},
   "outputs": [],
   "source": [
    "#flatten the data \n",
    "x_train = x_train.reshape(60000,-1)/255.0\n",
    "x_test = x_test.reshape(10000,-1)/255.0\n"
   ]
  },
  {
   "cell_type": "code",
   "execution_count": 16,
   "id": "325df9a6-dcfb-439c-b23f-93abf39ccf75",
   "metadata": {},
   "outputs": [
    {
     "data": {
      "text/plain": [
       "(60000, 784)"
      ]
     },
     "execution_count": 16,
     "metadata": {},
     "output_type": "execute_result"
    }
   ],
   "source": [
    "x_train.shape"
   ]
  },
  {
   "cell_type": "code",
   "execution_count": 17,
   "id": "f94cb027-9c51-4a28-a0f9-34d1115cbe91",
   "metadata": {},
   "outputs": [],
   "source": [
    "classes = [\"T-shirt/top\", \"Trouser\",\"Pullover\",\"Dress\",\"Coat\",\"Sandal\",\"Shirt\",\"Sneaker\",\" Bag\", \"Ankle boot\",]"
   ]
  },
  {
   "cell_type": "code",
   "execution_count": 22,
   "id": "7874620d-1a8d-40da-9bde-061652216824",
   "metadata": {},
   "outputs": [
    {
     "data": {
      "image/png": "[encoded data removed]",
      "text/plain": [
       "<Figure size 640x480 with 1 Axes>"
      ]
     },
     "metadata": {},
     "output_type": "display_data"
    }
   ],
   "source": [
    "#Showing image \n",
    "\n",
    "plt.imshow(x_train[0].reshape((28,28)),cmap = 'binary')\n",
    "plt.title(f\"{classes[y_train[0]]}\")\n",
    "plt.show()"
   ]
  },
  {
   "cell_type": "code",
   "execution_count": 27,
   "id": "adac9e18-d2e7-45e3-a536-5b69bae156ce",
   "metadata": {},
   "outputs": [],
   "source": [
    "#building model\n",
    "\n",
    "model = Sequential()\n",
    "model.add(layers.Dense(64,activation='relu',input_dim = x_train.shape[1]))\n",
    "model.add(layers.Dense(64,activation ='relu'))\n",
    "model.add(layers.Dense(10,activation='softmax'))\n"
   ]
  },
  {
   "cell_type": "code",
   "execution_count": 28,
   "id": "d3b028c7-a644-4020-bb90-099f24c5a341",
   "metadata": {},
   "outputs": [
    {
     "name": "stdout",
     "output_type": "stream",
     "text": [
      "WARNING:tensorflow:From C:\\Python311\\Lib\\site-packages\\keras\\src\\optimizers\\__init__.py:309: The name tf.train.Optimizer is deprecated. Please use tf.compat.v1.train.Optimizer instead.\n",
      "\n"
     ]
    }
   ],
   "source": [
    "model.compile(loss='sparse_categorical_crossentropy',optimizer='adam',metrics='accuracy')"
   ]
  },
  {
   "cell_type": "code",
   "execution_count": 29,
   "id": "654692de-9085-4b66-9825-0ae5d12024b0",
   "metadata": {},
   "outputs": [
    {
     "name": "stdout",
     "output_type": "stream",
     "text": [
      "Epoch 1/200\n",
      "WARNING:tensorflow:From C:\\Python311\\Lib\\site-packages\\keras\\src\\utils\\tf_utils.py:492: The name tf.ragged.RaggedTensorValue is deprecated. Please use tf.compat.v1.ragged.RaggedTensorValue instead.\n",
      "\n",
      "WARNING:tensorflow:From C:\\Python311\\Lib\\site-packages\\keras\\src\\engine\\base_layer_utils.py:384: The name tf.executing_eagerly_outside_functions is deprecated. Please use tf.compat.v1.executing_eagerly_outside_functions instead.\n",
      "\n",
      "600/600 [==============================] - 4s 3ms/step - loss: 0.5615 - accuracy: 0.8031\n",
      "Epoch 2/200\n",
      "600/600 [==============================] - 2s 3ms/step - loss: 0.3963 - accuracy: 0.8574\n",
      "Epoch 3/200\n",
      "600/600 [==============================] - 2s 3ms/step - loss: 0.3555 - accuracy: 0.8702\n",
      "Epoch 4/200\n",
      "600/600 [==============================] - 2s 3ms/step - loss: 0.3360 - accuracy: 0.8779\n",
      "Epoch 5/200\n",
      "600/600 [==============================] - 2s 3ms/step - loss: 0.3165 - accuracy: 0.8845\n",
      "Epoch 6/200\n",
      "600/600 [==============================] - 2s 3ms/step - loss: 0.3051 - accuracy: 0.8870\n",
      "Epoch 7/200\n",
      "600/600 [==============================] - 2s 3ms/step - loss: 0.2942 - accuracy: 0.8915\n",
      "Epoch 8/200\n",
      "600/600 [==============================] - 2s 3ms/step - loss: 0.2826 - accuracy: 0.8955\n",
      "Epoch 9/200\n",
      "600/600 [==============================] - 2s 3ms/step - loss: 0.2738 - accuracy: 0.8981\n",
      "Epoch 10/200\n",
      "600/600 [==============================] - 2s 3ms/step - loss: 0.2651 - accuracy: 0.9018\n",
      "Epoch 11/200\n",
      "600/600 [==============================] - 2s 3ms/step - loss: 0.2587 - accuracy: 0.9034\n",
      "Epoch 12/200\n",
      "600/600 [==============================] - 2s 3ms/step - loss: 0.2485 - accuracy: 0.9078\n",
      "Epoch 13/200\n",
      "600/600 [==============================] - 2s 3ms/step - loss: 0.2433 - accuracy: 0.9095\n",
      "Epoch 14/200\n",
      "600/600 [==============================] - 2s 3ms/step - loss: 0.2380 - accuracy: 0.9114\n",
      "Epoch 15/200\n",
      "600/600 [==============================] - 2s 3ms/step - loss: 0.2280 - accuracy: 0.9153\n",
      "Epoch 16/200\n",
      "600/600 [==============================] - 2s 3ms/step - loss: 0.2263 - accuracy: 0.9155\n",
      "Epoch 17/200\n",
      "600/600 [==============================] - 2s 3ms/step - loss: 0.2218 - accuracy: 0.9168\n",
      "Epoch 18/200\n",
      "600/600 [==============================] - 2s 3ms/step - loss: 0.2138 - accuracy: 0.9209\n",
      "Epoch 19/200\n",
      "600/600 [==============================] - 2s 3ms/step - loss: 0.2124 - accuracy: 0.9210\n",
      "Epoch 20/200\n",
      "600/600 [==============================] - 2s 3ms/step - loss: 0.2063 - accuracy: 0.9228\n",
      "Epoch 21/200\n",
      "600/600 [==============================] - 2s 3ms/step - loss: 0.2011 - accuracy: 0.9236\n",
      "Epoch 22/200\n",
      "600/600 [==============================] - 2s 3ms/step - loss: 0.1962 - accuracy: 0.9259\n",
      "Epoch 23/200\n",
      "600/600 [==============================] - 2s 3ms/step - loss: 0.1917 - accuracy: 0.9286\n",
      "Epoch 24/200\n",
      "600/600 [==============================] - 2s 3ms/step - loss: 0.1909 - accuracy: 0.9288\n",
      "Epoch 25/200\n",
      "600/600 [==============================] - 2s 3ms/step - loss: 0.1863 - accuracy: 0.9302\n",
      "Epoch 26/200\n",
      "600/600 [==============================] - 2s 3ms/step - loss: 0.1838 - accuracy: 0.9316\n",
      "Epoch 27/200\n",
      "600/600 [==============================] - 2s 3ms/step - loss: 0.1797 - accuracy: 0.9328\n",
      "Epoch 28/200\n",
      "600/600 [==============================] - 2s 3ms/step - loss: 0.1773 - accuracy: 0.9337\n",
      "Epoch 29/200\n",
      "600/600 [==============================] - 2s 3ms/step - loss: 0.1749 - accuracy: 0.9348\n",
      "Epoch 30/200\n",
      "600/600 [==============================] - 2s 3ms/step - loss: 0.1685 - accuracy: 0.9373\n",
      "Epoch 31/200\n",
      "600/600 [==============================] - 2s 3ms/step - loss: 0.1680 - accuracy: 0.9373\n",
      "Epoch 32/200\n",
      "600/600 [==============================] - 2s 3ms/step - loss: 0.1625 - accuracy: 0.9388\n",
      "Epoch 33/200\n",
      "600/600 [==============================] - 2s 3ms/step - loss: 0.1580 - accuracy: 0.9415\n",
      "Epoch 34/200\n",
      "600/600 [==============================] - 2s 3ms/step - loss: 0.1565 - accuracy: 0.9423\n",
      "Epoch 35/200\n",
      "600/600 [==============================] - 2s 3ms/step - loss: 0.1539 - accuracy: 0.9429\n",
      "Epoch 36/200\n",
      "600/600 [==============================] - 2s 3ms/step - loss: 0.1534 - accuracy: 0.9435\n",
      "Epoch 37/200\n",
      "600/600 [==============================] - 2s 3ms/step - loss: 0.1508 - accuracy: 0.9442\n",
      "Epoch 38/200\n",
      "600/600 [==============================] - 2s 3ms/step - loss: 0.1456 - accuracy: 0.9467\n",
      "Epoch 39/200\n",
      "600/600 [==============================] - 2s 3ms/step - loss: 0.1466 - accuracy: 0.9458\n",
      "Epoch 40/200\n",
      "600/600 [==============================] - 2s 3ms/step - loss: 0.1429 - accuracy: 0.9464\n",
      "Epoch 41/200\n",
      "600/600 [==============================] - 2s 3ms/step - loss: 0.1380 - accuracy: 0.9487\n",
      "Epoch 42/200\n",
      "600/600 [==============================] - 2s 3ms/step - loss: 0.1361 - accuracy: 0.9499\n",
      "Epoch 43/200\n",
      "600/600 [==============================] - 2s 3ms/step - loss: 0.1388 - accuracy: 0.9486\n",
      "Epoch 44/200\n",
      "600/600 [==============================] - 2s 3ms/step - loss: 0.1342 - accuracy: 0.9506\n",
      "Epoch 45/200\n",
      "600/600 [==============================] - 2s 3ms/step - loss: 0.1302 - accuracy: 0.9517\n",
      "Epoch 46/200\n",
      "600/600 [==============================] - 2s 3ms/step - loss: 0.1298 - accuracy: 0.9519\n",
      "Epoch 47/200\n",
      "600/600 [==============================] - 2s 3ms/step - loss: 0.1284 - accuracy: 0.9527\n",
      "Epoch 48/200\n",
      "600/600 [==============================] - 2s 3ms/step - loss: 0.1224 - accuracy: 0.9547\n",
      "Epoch 49/200\n",
      "600/600 [==============================] - 2s 3ms/step - loss: 0.1264 - accuracy: 0.9534\n",
      "Epoch 50/200\n",
      "600/600 [==============================] - 2s 3ms/step - loss: 0.1197 - accuracy: 0.9557\n",
      "Epoch 51/200\n",
      "600/600 [==============================] - 2s 3ms/step - loss: 0.1203 - accuracy: 0.9559\n",
      "Epoch 52/200\n",
      "600/600 [==============================] - 2s 3ms/step - loss: 0.1186 - accuracy: 0.9553\n",
      "Epoch 53/200\n",
      "600/600 [==============================] - 2s 3ms/step - loss: 0.1161 - accuracy: 0.9569\n",
      "Epoch 54/200\n",
      "600/600 [==============================] - 2s 3ms/step - loss: 0.1126 - accuracy: 0.9585\n",
      "Epoch 55/200\n",
      "600/600 [==============================] - 2s 3ms/step - loss: 0.1129 - accuracy: 0.9583\n",
      "Epoch 56/200\n",
      "600/600 [==============================] - 2s 3ms/step - loss: 0.1131 - accuracy: 0.9580\n",
      "Epoch 57/200\n",
      "600/600 [==============================] - 2s 3ms/step - loss: 0.1117 - accuracy: 0.9594\n",
      "Epoch 58/200\n",
      "600/600 [==============================] - 2s 3ms/step - loss: 0.1058 - accuracy: 0.9608\n",
      "Epoch 59/200\n",
      "600/600 [==============================] - 2s 3ms/step - loss: 0.1034 - accuracy: 0.9625\n",
      "Epoch 60/200\n",
      "600/600 [==============================] - 2s 3ms/step - loss: 0.1034 - accuracy: 0.9619\n",
      "Epoch 61/200\n",
      "600/600 [==============================] - 2s 3ms/step - loss: 0.1010 - accuracy: 0.9627\n",
      "Epoch 62/200\n",
      "600/600 [==============================] - 2s 3ms/step - loss: 0.1015 - accuracy: 0.9628\n",
      "Epoch 63/200\n",
      "600/600 [==============================] - 2s 3ms/step - loss: 0.1054 - accuracy: 0.9603\n",
      "Epoch 64/200\n",
      "600/600 [==============================] - 2s 3ms/step - loss: 0.0987 - accuracy: 0.9639\n",
      "Epoch 65/200\n",
      "600/600 [==============================] - 2s 3ms/step - loss: 0.0926 - accuracy: 0.9661\n",
      "Epoch 66/200\n",
      "600/600 [==============================] - 2s 3ms/step - loss: 0.0973 - accuracy: 0.9642\n",
      "Epoch 67/200\n",
      "600/600 [==============================] - 2s 3ms/step - loss: 0.0941 - accuracy: 0.9656\n",
      "Epoch 68/200\n",
      "600/600 [==============================] - 2s 3ms/step - loss: 0.0924 - accuracy: 0.9661\n",
      "Epoch 69/200\n",
      "600/600 [==============================] - 2s 3ms/step - loss: 0.0889 - accuracy: 0.9676\n",
      "Epoch 70/200\n",
      "600/600 [==============================] - 2s 3ms/step - loss: 0.0933 - accuracy: 0.9654\n",
      "Epoch 71/200\n",
      "600/600 [==============================] - 2s 3ms/step - loss: 0.0895 - accuracy: 0.9665\n",
      "Epoch 72/200\n",
      "600/600 [==============================] - 2s 3ms/step - loss: 0.0908 - accuracy: 0.9664\n",
      "Epoch 73/200\n",
      "600/600 [==============================] - 2s 3ms/step - loss: 0.0832 - accuracy: 0.9701\n",
      "Epoch 74/200\n",
      "600/600 [==============================] - 2s 3ms/step - loss: 0.0843 - accuracy: 0.9692\n",
      "Epoch 75/200\n",
      "600/600 [==============================] - 2s 3ms/step - loss: 0.0884 - accuracy: 0.9683\n",
      "Epoch 76/200\n",
      "600/600 [==============================] - 2s 3ms/step - loss: 0.0826 - accuracy: 0.9696\n",
      "Epoch 77/200\n",
      "600/600 [==============================] - 2s 3ms/step - loss: 0.0841 - accuracy: 0.9687\n",
      "Epoch 78/200\n",
      "600/600 [==============================] - 2s 3ms/step - loss: 0.0819 - accuracy: 0.9700\n",
      "Epoch 79/200\n",
      "600/600 [==============================] - 2s 3ms/step - loss: 0.0788 - accuracy: 0.9717\n",
      "Epoch 80/200\n",
      "600/600 [==============================] - 2s 3ms/step - loss: 0.0793 - accuracy: 0.9712\n",
      "Epoch 81/200\n",
      "600/600 [==============================] - 2s 3ms/step - loss: 0.0796 - accuracy: 0.9708\n",
      "Epoch 82/200\n",
      "600/600 [==============================] - 2s 3ms/step - loss: 0.0776 - accuracy: 0.9715\n",
      "Epoch 83/200\n",
      "600/600 [==============================] - 2s 3ms/step - loss: 0.0820 - accuracy: 0.9700\n",
      "Epoch 84/200\n",
      "600/600 [==============================] - 2s 3ms/step - loss: 0.0743 - accuracy: 0.9725\n",
      "Epoch 85/200\n",
      "600/600 [==============================] - 2s 3ms/step - loss: 0.0792 - accuracy: 0.9707\n",
      "Epoch 86/200\n",
      "600/600 [==============================] - 2s 3ms/step - loss: 0.0719 - accuracy: 0.9737\n",
      "Epoch 87/200\n",
      "600/600 [==============================] - 2s 3ms/step - loss: 0.0750 - accuracy: 0.9718\n",
      "Epoch 88/200\n",
      "600/600 [==============================] - 2s 3ms/step - loss: 0.0691 - accuracy: 0.9746\n",
      "Epoch 89/200\n",
      "600/600 [==============================] - 2s 3ms/step - loss: 0.0776 - accuracy: 0.9719\n",
      "Epoch 90/200\n",
      "600/600 [==============================] - 2s 3ms/step - loss: 0.0729 - accuracy: 0.9729\n",
      "Epoch 91/200\n",
      "600/600 [==============================] - 1s 2ms/step - loss: 0.0687 - accuracy: 0.9742\n",
      "Epoch 92/200\n",
      "600/600 [==============================] - 2s 3ms/step - loss: 0.0699 - accuracy: 0.9737\n",
      "Epoch 93/200\n",
      "600/600 [==============================] - 1s 2ms/step - loss: 0.0659 - accuracy: 0.9752\n",
      "Epoch 94/200\n",
      "600/600 [==============================] - 2s 3ms/step - loss: 0.0691 - accuracy: 0.9744\n",
      "Epoch 95/200\n",
      "600/600 [==============================] - 1s 2ms/step - loss: 0.0682 - accuracy: 0.9746\n",
      "Epoch 96/200\n",
      "600/600 [==============================] - 2s 3ms/step - loss: 0.0655 - accuracy: 0.9749\n",
      "Epoch 97/200\n",
      "600/600 [==============================] - 2s 3ms/step - loss: 0.0675 - accuracy: 0.9758\n",
      "Epoch 98/200\n",
      "600/600 [==============================] - 2s 3ms/step - loss: 0.0658 - accuracy: 0.9754\n",
      "Epoch 99/200\n",
      "600/600 [==============================] - 2s 3ms/step - loss: 0.0634 - accuracy: 0.9772\n",
      "Epoch 100/200\n",
      "600/600 [==============================] - 2s 3ms/step - loss: 0.0634 - accuracy: 0.9771\n",
      "Epoch 101/200\n",
      "600/600 [==============================] - 2s 3ms/step - loss: 0.0614 - accuracy: 0.9769\n",
      "Epoch 102/200\n",
      "600/600 [==============================] - 1s 2ms/step - loss: 0.0614 - accuracy: 0.9772\n",
      "Epoch 103/200\n",
      "600/600 [==============================] - 1s 2ms/step - loss: 0.0628 - accuracy: 0.9769\n",
      "Epoch 104/200\n",
      "600/600 [==============================] - 2s 3ms/step - loss: 0.0623 - accuracy: 0.9773\n",
      "Epoch 105/200\n",
      "600/600 [==============================] - 2s 3ms/step - loss: 0.0604 - accuracy: 0.9779\n",
      "Epoch 106/200\n",
      "600/600 [==============================] - 2s 3ms/step - loss: 0.0574 - accuracy: 0.9785\n",
      "Epoch 107/200\n",
      "600/600 [==============================] - 2s 3ms/step - loss: 0.0626 - accuracy: 0.9776\n",
      "Epoch 108/200\n",
      "600/600 [==============================] - 2s 3ms/step - loss: 0.0595 - accuracy: 0.9778\n",
      "Epoch 109/200\n",
      "600/600 [==============================] - 2s 3ms/step - loss: 0.0555 - accuracy: 0.9797\n",
      "Epoch 110/200\n",
      "600/600 [==============================] - 2s 3ms/step - loss: 0.0562 - accuracy: 0.9791\n",
      "Epoch 111/200\n",
      "600/600 [==============================] - 2s 3ms/step - loss: 0.0588 - accuracy: 0.9787\n",
      "Epoch 112/200\n",
      "600/600 [==============================] - 2s 3ms/step - loss: 0.0530 - accuracy: 0.9803\n",
      "Epoch 113/200\n",
      "600/600 [==============================] - 2s 3ms/step - loss: 0.0561 - accuracy: 0.9790\n",
      "Epoch 114/200\n",
      "600/600 [==============================] - 2s 3ms/step - loss: 0.0552 - accuracy: 0.9799\n",
      "Epoch 115/200\n",
      "600/600 [==============================] - 2s 3ms/step - loss: 0.0579 - accuracy: 0.9787\n",
      "Epoch 116/200\n",
      "600/600 [==============================] - 2s 3ms/step - loss: 0.0510 - accuracy: 0.9816\n",
      "Epoch 117/200\n",
      "600/600 [==============================] - 2s 3ms/step - loss: 0.0564 - accuracy: 0.9796\n",
      "Epoch 118/200\n",
      "600/600 [==============================] - 2s 3ms/step - loss: 0.0559 - accuracy: 0.9788\n",
      "Epoch 119/200\n",
      "600/600 [==============================] - 2s 3ms/step - loss: 0.0497 - accuracy: 0.9823\n",
      "Epoch 120/200\n",
      "600/600 [==============================] - 2s 3ms/step - loss: 0.0523 - accuracy: 0.9808\n",
      "Epoch 121/200\n",
      "600/600 [==============================] - 2s 3ms/step - loss: 0.0587 - accuracy: 0.9787\n",
      "Epoch 122/200\n",
      "600/600 [==============================] - 2s 3ms/step - loss: 0.0470 - accuracy: 0.9825\n",
      "Epoch 123/200\n",
      "600/600 [==============================] - 2s 3ms/step - loss: 0.0538 - accuracy: 0.9804\n",
      "Epoch 124/200\n",
      "600/600 [==============================] - 2s 3ms/step - loss: 0.0533 - accuracy: 0.9807\n",
      "Epoch 125/200\n",
      "600/600 [==============================] - 2s 3ms/step - loss: 0.0485 - accuracy: 0.9821\n",
      "Epoch 126/200\n",
      "600/600 [==============================] - 2s 3ms/step - loss: 0.0533 - accuracy: 0.9804\n",
      "Epoch 127/200\n",
      "600/600 [==============================] - 2s 3ms/step - loss: 0.0507 - accuracy: 0.9811\n",
      "Epoch 128/200\n",
      "600/600 [==============================] - 2s 3ms/step - loss: 0.0484 - accuracy: 0.9820\n",
      "Epoch 129/200\n",
      "600/600 [==============================] - 2s 3ms/step - loss: 0.0431 - accuracy: 0.9845\n",
      "Epoch 130/200\n",
      "600/600 [==============================] - 2s 3ms/step - loss: 0.0488 - accuracy: 0.9814\n",
      "Epoch 131/200\n",
      "600/600 [==============================] - 2s 3ms/step - loss: 0.0510 - accuracy: 0.9815\n",
      "Epoch 132/200\n",
      "600/600 [==============================] - 2s 3ms/step - loss: 0.0458 - accuracy: 0.9828\n",
      "Epoch 133/200\n",
      "600/600 [==============================] - 2s 3ms/step - loss: 0.0469 - accuracy: 0.9829\n",
      "Epoch 134/200\n",
      "600/600 [==============================] - 2s 3ms/step - loss: 0.0462 - accuracy: 0.9831\n",
      "Epoch 135/200\n",
      "600/600 [==============================] - 2s 3ms/step - loss: 0.0491 - accuracy: 0.9819\n",
      "Epoch 136/200\n",
      "600/600 [==============================] - 2s 3ms/step - loss: 0.0427 - accuracy: 0.9844\n",
      "Epoch 137/200\n",
      "600/600 [==============================] - 2s 3ms/step - loss: 0.0442 - accuracy: 0.9842\n",
      "Epoch 138/200\n",
      "600/600 [==============================] - 2s 3ms/step - loss: 0.0475 - accuracy: 0.9824\n",
      "Epoch 139/200\n",
      "600/600 [==============================] - 2s 3ms/step - loss: 0.0467 - accuracy: 0.9835\n",
      "Epoch 140/200\n",
      "600/600 [==============================] - 2s 3ms/step - loss: 0.0420 - accuracy: 0.9847\n",
      "Epoch 141/200\n",
      "600/600 [==============================] - 2s 3ms/step - loss: 0.0447 - accuracy: 0.9838\n",
      "Epoch 142/200\n",
      "600/600 [==============================] - 2s 3ms/step - loss: 0.0478 - accuracy: 0.9825\n",
      "Epoch 143/200\n",
      "600/600 [==============================] - 2s 3ms/step - loss: 0.0456 - accuracy: 0.9831\n",
      "Epoch 144/200\n",
      "600/600 [==============================] - 2s 3ms/step - loss: 0.0400 - accuracy: 0.9852\n",
      "Epoch 145/200\n",
      "600/600 [==============================] - 2s 3ms/step - loss: 0.0423 - accuracy: 0.9843\n",
      "Epoch 146/200\n",
      "600/600 [==============================] - 2s 3ms/step - loss: 0.0418 - accuracy: 0.9844\n",
      "Epoch 147/200\n",
      "600/600 [==============================] - 2s 3ms/step - loss: 0.0384 - accuracy: 0.9859\n",
      "Epoch 148/200\n",
      "600/600 [==============================] - 2s 3ms/step - loss: 0.0436 - accuracy: 0.9841\n",
      "Epoch 149/200\n",
      "600/600 [==============================] - 2s 3ms/step - loss: 0.0397 - accuracy: 0.9861\n",
      "Epoch 150/200\n",
      "600/600 [==============================] - 2s 3ms/step - loss: 0.0430 - accuracy: 0.9848\n",
      "Epoch 151/200\n",
      "600/600 [==============================] - 2s 3ms/step - loss: 0.0489 - accuracy: 0.9819\n",
      "Epoch 152/200\n",
      "600/600 [==============================] - 2s 3ms/step - loss: 0.0397 - accuracy: 0.9851\n",
      "Epoch 153/200\n",
      "600/600 [==============================] - 2s 3ms/step - loss: 0.0381 - accuracy: 0.9862\n",
      "Epoch 154/200\n",
      "600/600 [==============================] - 2s 3ms/step - loss: 0.0353 - accuracy: 0.9868\n",
      "Epoch 155/200\n",
      "600/600 [==============================] - 2s 3ms/step - loss: 0.0388 - accuracy: 0.9855\n",
      "Epoch 156/200\n",
      "600/600 [==============================] - 2s 3ms/step - loss: 0.0448 - accuracy: 0.9834\n",
      "Epoch 157/200\n",
      "600/600 [==============================] - 2s 3ms/step - loss: 0.0390 - accuracy: 0.9859\n",
      "Epoch 158/200\n",
      "600/600 [==============================] - 2s 3ms/step - loss: 0.0435 - accuracy: 0.9847\n",
      "Epoch 159/200\n",
      "600/600 [==============================] - 2s 3ms/step - loss: 0.0342 - accuracy: 0.9875\n",
      "Epoch 160/200\n",
      "600/600 [==============================] - 2s 3ms/step - loss: 0.0392 - accuracy: 0.9858\n",
      "Epoch 161/200\n",
      "600/600 [==============================] - 2s 3ms/step - loss: 0.0469 - accuracy: 0.9836\n",
      "Epoch 162/200\n",
      "600/600 [==============================] - 2s 3ms/step - loss: 0.0351 - accuracy: 0.9877\n",
      "Epoch 163/200\n",
      "600/600 [==============================] - 2s 3ms/step - loss: 0.0321 - accuracy: 0.9880\n",
      "Epoch 164/200\n",
      "600/600 [==============================] - 2s 3ms/step - loss: 0.0401 - accuracy: 0.9852\n",
      "Epoch 165/200\n",
      "600/600 [==============================] - 2s 3ms/step - loss: 0.0405 - accuracy: 0.9854\n",
      "Epoch 166/200\n",
      "600/600 [==============================] - 2s 3ms/step - loss: 0.0386 - accuracy: 0.9859\n",
      "Epoch 167/200\n",
      "600/600 [==============================] - 2s 3ms/step - loss: 0.0307 - accuracy: 0.9888\n",
      "Epoch 168/200\n",
      "600/600 [==============================] - 2s 3ms/step - loss: 0.0405 - accuracy: 0.9852\n",
      "Epoch 169/200\n",
      "600/600 [==============================] - 2s 3ms/step - loss: 0.0349 - accuracy: 0.9870\n",
      "Epoch 170/200\n",
      "600/600 [==============================] - 2s 3ms/step - loss: 0.0344 - accuracy: 0.9873\n",
      "Epoch 171/200\n",
      "600/600 [==============================] - 2s 3ms/step - loss: 0.0435 - accuracy: 0.9850\n",
      "Epoch 172/200\n",
      "600/600 [==============================] - 2s 3ms/step - loss: 0.0395 - accuracy: 0.9856\n",
      "Epoch 173/200\n",
      "600/600 [==============================] - 2s 3ms/step - loss: 0.0338 - accuracy: 0.9878\n",
      "Epoch 174/200\n",
      "600/600 [==============================] - 2s 3ms/step - loss: 0.0353 - accuracy: 0.9869\n",
      "Epoch 175/200\n",
      "600/600 [==============================] - 2s 3ms/step - loss: 0.0349 - accuracy: 0.9883\n",
      "Epoch 176/200\n",
      "600/600 [==============================] - 2s 3ms/step - loss: 0.0391 - accuracy: 0.9860\n",
      "Epoch 177/200\n",
      "600/600 [==============================] - 2s 3ms/step - loss: 0.0330 - accuracy: 0.9880\n",
      "Epoch 178/200\n",
      "600/600 [==============================] - 2s 3ms/step - loss: 0.0364 - accuracy: 0.9868\n",
      "Epoch 179/200\n",
      "600/600 [==============================] - 2s 3ms/step - loss: 0.0349 - accuracy: 0.9879\n",
      "Epoch 180/200\n",
      "600/600 [==============================] - 2s 3ms/step - loss: 0.0367 - accuracy: 0.9866\n",
      "Epoch 181/200\n",
      "600/600 [==============================] - 2s 3ms/step - loss: 0.0311 - accuracy: 0.9886\n",
      "Epoch 182/200\n",
      "600/600 [==============================] - 2s 3ms/step - loss: 0.0368 - accuracy: 0.9872\n",
      "Epoch 183/200\n",
      "600/600 [==============================] - 2s 3ms/step - loss: 0.0354 - accuracy: 0.9870\n",
      "Epoch 184/200\n",
      "600/600 [==============================] - 2s 3ms/step - loss: 0.0265 - accuracy: 0.9904\n",
      "Epoch 185/200\n",
      "600/600 [==============================] - 2s 3ms/step - loss: 0.0320 - accuracy: 0.9881\n",
      "Epoch 186/200\n",
      "600/600 [==============================] - 2s 3ms/step - loss: 0.0304 - accuracy: 0.9890\n",
      "Epoch 187/200\n",
      "600/600 [==============================] - 2s 3ms/step - loss: 0.0322 - accuracy: 0.9882\n",
      "Epoch 188/200\n",
      "600/600 [==============================] - 2s 3ms/step - loss: 0.0351 - accuracy: 0.9872\n",
      "Epoch 189/200\n",
      "600/600 [==============================] - 2s 3ms/step - loss: 0.0328 - accuracy: 0.9881\n",
      "Epoch 190/200\n",
      "600/600 [==============================] - 2s 3ms/step - loss: 0.0305 - accuracy: 0.9886\n",
      "Epoch 191/200\n",
      "600/600 [==============================] - 2s 3ms/step - loss: 0.0352 - accuracy: 0.9868\n",
      "Epoch 192/200\n",
      "600/600 [==============================] - 2s 3ms/step - loss: 0.0294 - accuracy: 0.9891\n",
      "Epoch 193/200\n",
      "600/600 [==============================] - 2s 3ms/step - loss: 0.0444 - accuracy: 0.9847\n",
      "Epoch 194/200\n",
      "600/600 [==============================] - 2s 3ms/step - loss: 0.0227 - accuracy: 0.9918\n",
      "Epoch 195/200\n",
      "600/600 [==============================] - 2s 3ms/step - loss: 0.0312 - accuracy: 0.9883\n",
      "Epoch 196/200\n",
      "600/600 [==============================] - 2s 3ms/step - loss: 0.0247 - accuracy: 0.9912\n",
      "Epoch 197/200\n",
      "600/600 [==============================] - 2s 3ms/step - loss: 0.0305 - accuracy: 0.9890\n",
      "Epoch 198/200\n",
      "600/600 [==============================] - 2s 3ms/step - loss: 0.0378 - accuracy: 0.9869\n",
      "Epoch 199/200\n",
      "600/600 [==============================] - 2s 3ms/step - loss: 0.0225 - accuracy: 0.9920\n",
      "Epoch 200/200\n",
      "600/600 [==============================] - 2s 3ms/step - loss: 0.0424 - accuracy: 0.9850\n"
     ]
    },
    {
     "data": {
      "text/plain": [
       "<keras.src.callbacks.History at 0x1ae84a3b490>"
      ]
     },
     "execution_count": 29,
     "metadata": {},
     "output_type": "execute_result"
    }
   ],
   "source": [
    "model.fit(x_train,y_train,epochs=200,batch_size=100)"
   ]
  },
  {
   "cell_type": "code",
   "execution_count": 30,
   "id": "a8ce11e2-fd53-4b4a-b0b7-604458d549d4",
   "metadata": {},
   "outputs": [
    {
     "name": "stdout",
     "output_type": "stream",
     "text": [
      "313/313 [==============================] - 1s 3ms/step\n"
     ]
    }
   ],
   "source": [
    "y_out = model.predict(x_test)"
   ]
  },
  {
   "cell_type": "code",
   "execution_count": 38,
   "id": "b003a6c5-7eb5-4562-af3d-c0755be7b309",
   "metadata": {},
   "outputs": [],
   "source": [
    "y_predict = np.array(y_out).argmax(axis = 1)"
   ]
  },
  {
   "cell_type": "code",
   "execution_count": 47,
   "id": "9eec53be-c526-4075-98e7-f3486239f9fd",
   "metadata": {},
   "outputs": [],
   "source": [
    "accuracy = y_predict[y_predict==y_test].shape[0]/y_predict.shape[0]*100"
   ]
  },
  {
   "cell_type": "code",
   "execution_count": 48,
   "id": "5a752c9d-19f3-47ae-a7d1-eed896d2b55c",
   "metadata": {},
   "outputs": [
    {
     "name": "stdout",
     "output_type": "stream",
     "text": [
      "Accuracy one testing model:88.23\n"
     ]
    }
   ],
   "source": [
    "print(f\"Accuracy one testing model:{accuracy}\")"
   ]
  },
  {
   "cell_type": "code",
   "execution_count": 51,
   "id": "1c577feb-3163-4cf8-abe2-ac880c58de88",
   "metadata": {},
   "outputs": [
    {
     "data": {
      "image/png": "[encoded data removed]",
      "text/plain": [
       "<Figure size 640x480 with 1 Axes>"
      ]
     },
     "metadata": {},
     "output_type": "display_data"
    },
    {
     "data": {
      "image/png": "[encoded data removed]",
      "text/plain": [
       "<Figure size 640x480 with 1 Axes>"
      ]
     },
     "metadata": {},
     "output_type": "display_data"
    },
    {
     "data": {
      "image/png": "[encoded data removed]",
      "text/plain": [
       "<Figure size 640x480 with 1 Axes>"
      ]
     },
     "metadata": {},
     "output_type": "display_data"
    },
    {
     "data": {
      "image/png": "[encoded data removed]",
      "text/plain": [
       "<Figure size 640x480 with 1 Axes>"
      ]
     },
     "metadata": {},
     "output_type": "display_data"
    },
    {
     "data": {
      "image/png": "[encoded data removed]",
      "text/plain": [
       "<Figure size 640x480 with 1 Axes>"
      ]
     },
     "metadata": {},
     "output_type": "display_data"
    }
   ],
   "source": [
    "#showing output\n",
    "for i in range(5):\n",
    "    plt.imshow(x_test[i].reshape((28,28)),cmap = 'binary')\n",
    "    plt.title(f\" prdicated:{classes[y_predict[i]]}\")\n",
    "    plt.xlabel(f\"actual :{classes[y_test[i]]}\")\n",
    "    plt.show()"
   ]
  },
  {
   "cell_type": "code",
   "execution_count": 52,
   "id": "cdac77b1-8fb0-4aef-aa7d-2f3d3b6e3e6e",
   "metadata": {},
   "outputs": [
    {
     "name": "stdout",
     "output_type": "stream",
     "text": [
      "INFO:tensorflow:Assets written to: Fashion\\assets\n"
     ]
    },
    {
     "name": "stderr",
     "output_type": "stream",
     "text": [
      "INFO:tensorflow:Assets written to: Fashion\\assets\n"
     ]
    }
   ],
   "source": [
    "model.save('Fashion')"
   ]
  },
  {
   "cell_type": "code",
   "execution_count": null,
   "id": "bc511308-e1f3-4048-bcdc-941aec1dddbd",
   "metadata": {},
   "outputs": [],
   "source": []
  }
 ],
 "metadata": {
  "kernelspec": {
   "display_name": "Python 3 (ipykernel)",
   "language": "python",
   "name": "python3"
  },
  "language_info": {
   "codemirror_mode": {
    "name": "ipython",
    "version": 3
   },
   "file_extension": ".py",
   "mimetype": "text/x-python",
   "name": "python",
   "nbconvert_exporter": "python",
   "pygments_lexer": "ipython3",
   "version": "3.11.4"
  }
 },
 "nbformat": 4,
 "nbformat_minor": 5
}
