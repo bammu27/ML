{
 "cells": [
  {
   "cell_type": "code",
   "execution_count": 3,
   "id": "9525f5e9-7d71-4e65-9044-4f43521b549d",
   "metadata": {},
   "outputs": [],
   "source": [
    "import numpy as np\n",
    "import matplotlib.pyplot as plt\n",
    "import h5py\n",
    "import scipy"
   ]
  },
  {
   "cell_type": "code",
   "execution_count": 7,
   "id": "6cdbcd2d-84d9-4c36-a0f9-d5c8638ca6a5",
   "metadata": {},
   "outputs": [],
   "source": [
    "with h5py.File('train_catvnoncat.h5.', 'r') as file:\n",
    "    # Access the image data and labels\n",
    "    x_train_orig = np.array(file['train_set_x'])\n",
    "    y_train_orig = np.array(file['train_set_y'])\n",
    "\n",
    "with h5py.File('test_catvnoncat.h5.', 'r') as file:\n",
    "    # Access the image data and labels\n",
    "    x_test_orig = np.array(file['test_set_x'])\n",
    "    y_test_orig = np.array(file['test_set_y'])"
   ]
  },
  {
   "cell_type": "code",
   "execution_count": 13,
   "id": "51b4cf9c-3646-47da-8c1f-5f384bc3519c",
   "metadata": {},
   "outputs": [
    {
     "data": {
      "image/png": "[encoded data removed]",
      "text/plain": [
       "<Figure size 640x480 with 1 Axes>"
      ]
     },
     "metadata": {},
     "output_type": "display_data"
    }
   ],
   "source": [
    "#show picture of cat\n",
    "plt.imshow(x_train_orig[25])\n",
    "plt.show()"
   ]
  },
  {
   "cell_type": "code",
   "execution_count": 14,
   "id": "31a461e6-237d-4dcf-b73a-a6381672f5ca",
   "metadata": {},
   "outputs": [
    {
     "name": "stdout",
     "output_type": "stream",
     "text": [
      "shape input  training data:(209, 64, 64, 3)\n",
      "shape out training data:(209,)\n",
      "shape of each image:(64, 64, 3)\n",
      "shape testining data:(50, 64, 64, 3)\n",
      "shape out testing data:(50,)\n"
     ]
    }
   ],
   "source": [
    "#shape of the data both test and train\n",
    "\n",
    "print(f\"shape input  training data:{x_train_orig.shape}\")\n",
    "print(f\"shape out training data:{y_train_orig.shape}\")\n",
    "print(f\"shape of each image:{x_train_orig.shape[1:]}\")\n",
    "print(f\"shape testining data:{x_test_orig.shape}\")\n",
    "print(f\"shape out testing data:{y_test_orig.shape}\")"
   ]
  },
  {
   "cell_type": "code",
   "execution_count": 91,
   "id": "f7c31a34-3c38-49e4-b7f5-9154d4d2c682",
   "metadata": {},
   "outputs": [],
   "source": [
    "#reshaping of data \n",
    "\n",
    "x_train = x_train_orig.reshape(209,-1)\n",
    "x_test = x_test_orig.reshape(50,-1)\n",
    "x_train = x_train/255\n",
    "x_test = x_test/255"
   ]
  },
  {
   "cell_type": "code",
   "execution_count": 92,
   "id": "cc6608db-4656-4ed4-abae-ce3c4a57ce14",
   "metadata": {},
   "outputs": [
    {
     "name": "stdout",
     "output_type": "stream",
     "text": [
      "Shape of training  data:(209, 12288)\n",
      "Shape of testing  data:(50, 12288)\n"
     ]
    }
   ],
   "source": [
    "print(f\"Shape of training  data:{x_train.shape}\")\n",
    "print(f\"Shape of testing  data:{x_test.shape}\")"
   ]
  },
  {
   "cell_type": "code",
   "execution_count": 172,
   "id": "4d6cd033-c470-43fa-8b33-3537fd361c36",
   "metadata": {},
   "outputs": [],
   "source": [
    "#wrost\n",
    "import numpy as np\n",
    "\n",
    "def sigmoid(W, X, B):\n",
    "    z = np.dot(W, X.T) + B\n",
    "    return 1 / (1 + np.exp(-z))\n",
    "\n",
    "def cost(a, y):\n",
    "    epsilon = 1e-15\n",
    "    return -(np.sum(y * np.log(a + epsilon) + (1 - y) * np.log(1 - a + epsilon)) / x_train.shape[0])\n",
    "\n",
    "def dW(x_train, y, a):\n",
    "    return np.dot(y - a, x_train) / x_train.shape[0]\n",
    "\n",
    "def dB(y, a):\n",
    "    return np.sum(y - a) / x_train.shape[0]\n",
    "\n",
    "def model(W, B, x_train, alpha, y):\n",
    "    costs = []\n",
    "    for i in range(1000):\n",
    "        a = sigmoid(W, x_train, B)\n",
    "        W = W - alpha * dW(x_train, y, a)\n",
    "        B = B - alpha * dB(y, a)\n",
    "        costs.append(cost(a, y))\n",
    "\n",
    "    return W, B, costs\n",
    "\n",
    "# Example usage\n"
   ]
  },
  {
   "cell_type": "code",
   "execution_count": 176,
   "id": "883135e2-1315-47cc-b05a-e896222d6de8",
   "metadata": {},
   "outputs": [],
   "source": [
    "W = np.zeros((1,x_train.shape[1]))\n",
    "B = 10\n",
    "W,B,costs = model(W,B,x_train,0.01,y_train_orig)"
   ]
  },
  {
   "cell_type": "code",
   "execution_count": 177,
   "id": "8d6602e8-eca8-4c7f-a565-905f473d239b",
   "metadata": {},
   "outputs": [
    {
     "data": {
      "text/plain": [
       "array([[2.39178142, 2.59574051, 2.21896973, ..., 2.17506318, 2.3420582 ,\n",
       "        1.69246634]])"
      ]
     },
     "execution_count": 177,
     "metadata": {},
     "output_type": "execute_result"
    }
   ],
   "source": [
    "W"
   ]
  },
  {
   "cell_type": "code",
   "execution_count": 178,
   "id": "e72d02df-9e21-406b-aa8c-7fdbc7167aa3",
   "metadata": {},
   "outputs": [
    {
     "data": {
      "text/plain": [
       "16.555023468373502"
      ]
     },
     "execution_count": 178,
     "metadata": {},
     "output_type": "execute_result"
    }
   ],
   "source": [
    "B"
   ]
  },
  {
   "cell_type": "code",
   "execution_count": 155,
   "id": "ab3ba124-055b-4793-8b0d-f9a60e19e1ea",
   "metadata": {},
   "outputs": [],
   "source": [
    "#best \n",
    "\n",
    "\n",
    "def sigmoid(z):\n",
    "    return 1 / (1 + np.exp(-z))\n",
    "\n",
    "def cost_function(y, a):\n",
    "    epsilon = 1e-15\n",
    "    cost = -(np.sum(y * np.log(a + epsilon) + (1 - y) * np.log(1 - a + epsilon)) / a.shape[1])\n",
    "    return cost\n",
    "\n",
    "def gradient_descent(X, y, alpha, epochs):\n",
    "    m, n = X.shape\n",
    "    W = np.zeros((1, n))\n",
    "    B = 0\n",
    "    costs = []\n",
    "\n",
    "    for epoch in range(epochs):\n",
    "        # Forward pass\n",
    "        z = np.dot(W, X.T) + B\n",
    "        a = sigmoid(z)\n",
    "\n",
    "        # Compute cost\n",
    "        cost = cost_function(y, a)\n",
    "        costs.append(cost)\n",
    "\n",
    "        # Backward pass (Gradient Descent)\n",
    "        dz = a - y\n",
    "        dW = np.dot(dz, X) / m\n",
    "        dB = np.sum(dz) / m\n",
    "\n",
    "        # Update parameters\n",
    "        W -= alpha * dW\n",
    "        B -= alpha * dB\n",
    "\n",
    "        if epoch % 1000 == 0:\n",
    "            print(f\"Epoch {epoch}, Cost: {cost}\")\n",
    "\n",
    "    return W, B, costs\n",
    "\n",
    "\n",
    "\n"
   ]
  },
  {
   "cell_type": "code",
   "execution_count": 156,
   "id": "6096eb67-c3cc-404d-bdb9-2e2b9a3228e0",
   "metadata": {},
   "outputs": [
    {
     "name": "stdout",
     "output_type": "stream",
     "text": [
      "Epoch 0, Cost: 0.6931471805599435\n",
      "Epoch 1000, Cost: 0.116478331257165\n",
      "Epoch 2000, Cost: 0.0698603560508186\n",
      "Epoch 3000, Cost: 0.049484807864779885\n",
      "Epoch 4000, Cost: 0.03811122006611572\n",
      "Epoch 5000, Cost: 0.030898126764841924\n",
      "Epoch 6000, Cost: 0.02593572199213205\n",
      "Epoch 7000, Cost: 0.02232225160390515\n",
      "Epoch 8000, Cost: 0.019578306706278387\n",
      "Epoch 9000, Cost: 0.017426330533711724\n"
     ]
    }
   ],
   "source": [
    "W,B,costs = gradient_descent(x_train,y_train_orig,0.01,10000)"
   ]
  },
  {
   "cell_type": "code",
   "execution_count": 157,
   "id": "a882e919-f33d-4409-a997-04a81500ed83",
   "metadata": {},
   "outputs": [
    {
     "data": {
      "text/plain": [
       "array([[ 0.02391531, -0.05507692, -0.0226154 , ..., -0.02647264,\n",
       "        -0.05637545,  0.06131817]])"
      ]
     },
     "execution_count": 157,
     "metadata": {},
     "output_type": "execute_result"
    }
   ],
   "source": [
    "W"
   ]
  },
  {
   "cell_type": "code",
   "execution_count": 158,
   "id": "508d7c68-8418-4dc3-9c1e-0b944ac94b60",
   "metadata": {},
   "outputs": [
    {
     "data": {
      "text/plain": [
       "-0.002560020102160863"
      ]
     },
     "execution_count": 158,
     "metadata": {},
     "output_type": "execute_result"
    }
   ],
   "source": [
    "B"
   ]
  },
  {
   "cell_type": "code",
   "execution_count": 160,
   "id": "7fab61ca-196e-478e-93aa-d52b99f485d4",
   "metadata": {},
   "outputs": [],
   "source": [
    "y_pred = sigmoid(np.dot(W, x_test.T) + B)"
   ]
  },
  {
   "cell_type": "code",
   "execution_count": 166,
   "id": "65943c82-e11f-4ff0-a2e4-3e8ac565963c",
   "metadata": {},
   "outputs": [],
   "source": [
    "y_out = [ 0 if i<0.5 else 1 for i in y_pred.flatten()]"
   ]
  },
  {
   "cell_type": "code",
   "execution_count": 170,
   "id": "70939568-53a1-49f2-8b73-6849ffac0218",
   "metadata": {},
   "outputs": [],
   "source": [
    "accuracy = np.sum(y_out==y_test_orig)/50*100"
   ]
  },
  {
   "cell_type": "code",
   "execution_count": 171,
   "id": "f96e2a8f-9b37-4c12-a737-e10a79b4a60b",
   "metadata": {},
   "outputs": [
    {
     "name": "stdout",
     "output_type": "stream",
     "text": [
      "accuracy of model:72.0\n"
     ]
    }
   ],
   "source": [
    "print(f\"accuracy of model:{accuracy}\")"
   ]
  },
  {
   "cell_type": "code",
   "execution_count": 180,
   "id": "395048aa-3632-470a-982d-2c0c7826a953",
   "metadata": {},
   "outputs": [
    {
     "data": {
      "image/png": "[encoded data removed]",
      "text/plain": [
       "<Figure size 640x480 with 1 Axes>"
      ]
     },
     "metadata": {},
     "output_type": "display_data"
    },
    {
     "name": "stdout",
     "output_type": "stream",
     "text": [
      "it is cat:True\n"
     ]
    }
   ],
   "source": [
    "plt.imshow(x_test[1].reshape(64,64,3))\n",
    "plt.show()\n",
    "out = y_out[1]==1\n",
    "print(f\"it is cat:{out}\")"
   ]
  },
  {
   "cell_type": "code",
   "execution_count": null,
   "id": "6c763802-dce9-4bba-aa02-cb6ca9f11317",
   "metadata": {},
   "outputs": [],
   "source": []
  }
 ],
 "metadata": {
  "kernelspec": {
   "display_name": "Python 3 (ipykernel)",
   "language": "python",
   "name": "python3"
  },
  "language_info": {
   "codemirror_mode": {
    "name": "ipython",
    "version": 3
   },
   "file_extension": ".py",
   "mimetype": "text/x-python",
   "name": "python",
   "nbconvert_exporter": "python",
   "pygments_lexer": "ipython3",
   "version": "3.11.4"
  }
 },
 "nbformat": 4,
 "nbformat_minor": 5
}
