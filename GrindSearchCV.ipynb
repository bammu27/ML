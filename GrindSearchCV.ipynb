{
 "cells": [
  {
   "cell_type": "code",
   "execution_count": 61,
   "id": "785e2051-5e7f-4607-a4f8-a6c5ff0cff92",
   "metadata": {},
   "outputs": [],
   "source": [
    "import pandas as pd\n",
    "import numpy as np\n",
    "from sklearn.svm import SVC\n",
    "from sklearn.metrics import accuracy_score\n",
    "from sklearn.preprocessing import StandardScaler\n",
    "from sklearn.model_selection import train_test_split\n",
    "from sklearn.tree import DecisionTreeClassifier\n",
    "from sklearn.naive_bayes import GaussianNB\n",
    "from sklearn.linear_model import LogisticRegression\n",
    "from sklearn.neighbors import KNeighborsClassifier\n"
   ]
  },
  {
   "cell_type": "code",
   "execution_count": 62,
   "id": "a774df53-4e7c-421d-a43e-5c5e4a8a4bcd",
   "metadata": {},
   "outputs": [],
   "source": [
    "df = pd.read_csv('Social_Network_Ads.csv')"
   ]
  },
  {
   "cell_type": "code",
   "execution_count": 16,
   "id": "0f0404e2-cc3e-4d71-9c66-14de1df43419",
   "metadata": {},
   "outputs": [
    {
     "data": {
      "text/html": [
       "<div>\n",
       "<style scoped>\n",
       "    .dataframe tbody tr th:only-of-type {\n",
       "        vertical-align: middle;\n",
       "    }\n",
       "\n",
       "    .dataframe tbody tr th {\n",
       "        vertical-align: top;\n",
       "    }\n",
       "\n",
       "    .dataframe thead th {\n",
       "        text-align: right;\n",
       "    }\n",
       "</style>\n",
       "<table border=\"1\" class=\"dataframe\">\n",
       "  <thead>\n",
       "    <tr style=\"text-align: right;\">\n",
       "      <th></th>\n",
       "      <th>User ID</th>\n",
       "      <th>Gender</th>\n",
       "      <th>Age</th>\n",
       "      <th>EstimatedSalary</th>\n",
       "      <th>Purchased</th>\n",
       "    </tr>\n",
       "  </thead>\n",
       "  <tbody>\n",
       "    <tr>\n",
       "      <th>0</th>\n",
       "      <td>15624510</td>\n",
       "      <td>Male</td>\n",
       "      <td>19</td>\n",
       "      <td>19000</td>\n",
       "      <td>0</td>\n",
       "    </tr>\n",
       "    <tr>\n",
       "      <th>1</th>\n",
       "      <td>15810944</td>\n",
       "      <td>Male</td>\n",
       "      <td>35</td>\n",
       "      <td>20000</td>\n",
       "      <td>0</td>\n",
       "    </tr>\n",
       "    <tr>\n",
       "      <th>2</th>\n",
       "      <td>15668575</td>\n",
       "      <td>Female</td>\n",
       "      <td>26</td>\n",
       "      <td>43000</td>\n",
       "      <td>0</td>\n",
       "    </tr>\n",
       "    <tr>\n",
       "      <th>3</th>\n",
       "      <td>15603246</td>\n",
       "      <td>Female</td>\n",
       "      <td>27</td>\n",
       "      <td>57000</td>\n",
       "      <td>0</td>\n",
       "    </tr>\n",
       "    <tr>\n",
       "      <th>4</th>\n",
       "      <td>15804002</td>\n",
       "      <td>Male</td>\n",
       "      <td>19</td>\n",
       "      <td>76000</td>\n",
       "      <td>0</td>\n",
       "    </tr>\n",
       "  </tbody>\n",
       "</table>\n",
       "</div>"
      ],
      "text/plain": [
       "    User ID  Gender  Age  EstimatedSalary  Purchased\n",
       "0  15624510    Male   19            19000          0\n",
       "1  15810944    Male   35            20000          0\n",
       "2  15668575  Female   26            43000          0\n",
       "3  15603246  Female   27            57000          0\n",
       "4  15804002    Male   19            76000          0"
      ]
     },
     "execution_count": 16,
     "metadata": {},
     "output_type": "execute_result"
    }
   ],
   "source": [
    "df.head()"
   ]
  },
  {
   "cell_type": "code",
   "execution_count": 17,
   "id": "7010da01-f66c-4049-b28c-8b39b27abff7",
   "metadata": {},
   "outputs": [
    {
     "name": "stdout",
     "output_type": "stream",
     "text": [
      "<class 'pandas.core.frame.DataFrame'>\n",
      "RangeIndex: 400 entries, 0 to 399\n",
      "Data columns (total 5 columns):\n",
      " #   Column           Non-Null Count  Dtype \n",
      "---  ------           --------------  ----- \n",
      " 0   User ID          400 non-null    int64 \n",
      " 1   Gender           400 non-null    object\n",
      " 2   Age              400 non-null    int64 \n",
      " 3   EstimatedSalary  400 non-null    int64 \n",
      " 4   Purchased        400 non-null    int64 \n",
      "dtypes: int64(4), object(1)\n",
      "memory usage: 15.8+ KB\n"
     ]
    }
   ],
   "source": [
    "df.info()"
   ]
  },
  {
   "cell_type": "code",
   "execution_count": 18,
   "id": "8467b28b-63f2-437a-b6cd-d65057e5a8b4",
   "metadata": {},
   "outputs": [],
   "source": [
    " df['Gender'].replace({\"Male\":1,\"Female\":0},inplace=True)"
   ]
  },
  {
   "cell_type": "code",
   "execution_count": 19,
   "id": "94aac72c-d5d5-4714-8402-c0d4951909aa",
   "metadata": {},
   "outputs": [
    {
     "data": {
      "text/html": [
       "<div>\n",
       "<style scoped>\n",
       "    .dataframe tbody tr th:only-of-type {\n",
       "        vertical-align: middle;\n",
       "    }\n",
       "\n",
       "    .dataframe tbody tr th {\n",
       "        vertical-align: top;\n",
       "    }\n",
       "\n",
       "    .dataframe thead th {\n",
       "        text-align: right;\n",
       "    }\n",
       "</style>\n",
       "<table border=\"1\" class=\"dataframe\">\n",
       "  <thead>\n",
       "    <tr style=\"text-align: right;\">\n",
       "      <th></th>\n",
       "      <th>User ID</th>\n",
       "      <th>Gender</th>\n",
       "      <th>Age</th>\n",
       "      <th>EstimatedSalary</th>\n",
       "      <th>Purchased</th>\n",
       "    </tr>\n",
       "  </thead>\n",
       "  <tbody>\n",
       "    <tr>\n",
       "      <th>0</th>\n",
       "      <td>15624510</td>\n",
       "      <td>1</td>\n",
       "      <td>19</td>\n",
       "      <td>19000</td>\n",
       "      <td>0</td>\n",
       "    </tr>\n",
       "    <tr>\n",
       "      <th>1</th>\n",
       "      <td>15810944</td>\n",
       "      <td>1</td>\n",
       "      <td>35</td>\n",
       "      <td>20000</td>\n",
       "      <td>0</td>\n",
       "    </tr>\n",
       "    <tr>\n",
       "      <th>2</th>\n",
       "      <td>15668575</td>\n",
       "      <td>0</td>\n",
       "      <td>26</td>\n",
       "      <td>43000</td>\n",
       "      <td>0</td>\n",
       "    </tr>\n",
       "    <tr>\n",
       "      <th>3</th>\n",
       "      <td>15603246</td>\n",
       "      <td>0</td>\n",
       "      <td>27</td>\n",
       "      <td>57000</td>\n",
       "      <td>0</td>\n",
       "    </tr>\n",
       "    <tr>\n",
       "      <th>4</th>\n",
       "      <td>15804002</td>\n",
       "      <td>1</td>\n",
       "      <td>19</td>\n",
       "      <td>76000</td>\n",
       "      <td>0</td>\n",
       "    </tr>\n",
       "  </tbody>\n",
       "</table>\n",
       "</div>"
      ],
      "text/plain": [
       "    User ID  Gender  Age  EstimatedSalary  Purchased\n",
       "0  15624510       1   19            19000          0\n",
       "1  15810944       1   35            20000          0\n",
       "2  15668575       0   26            43000          0\n",
       "3  15603246       0   27            57000          0\n",
       "4  15804002       1   19            76000          0"
      ]
     },
     "execution_count": 19,
     "metadata": {},
     "output_type": "execute_result"
    }
   ],
   "source": [
    "df.head()\n"
   ]
  },
  {
   "cell_type": "code",
   "execution_count": 36,
   "id": "9aa25dc0-de6d-4fe1-a96d-142d5ae2d106",
   "metadata": {},
   "outputs": [],
   "source": [
    "X = df.iloc[:,1:-1].values\n",
    "Y = df.iloc[:,-1].values\n",
    "\n",
    "\n",
    "\n",
    "scaler = StandardScaler()\n",
    "\n",
    "x = scaler.fit_transform(X)\n",
    "x_train, x_test, y_train, y_test = train_test_split(x, Y, test_size=0.2, random_state=42)\n",
    "\n",
    "\n"
   ]
  },
  {
   "cell_type": "code",
   "execution_count": 55,
   "id": "1e7d1b37-0f35-4b9c-9a04-8a8893dbc80c",
   "metadata": {},
   "outputs": [],
   "source": [
    "def model(model_type):\n",
    "    model_type.fit(x_train,y_train)\n",
    "    y_pred = model_type.predict(x_test)\n",
    "    print(f\"Accuracy of {model_type}:{accuracy_score(y_test,y_pred)}\")\n"
   ]
  },
  {
   "cell_type": "code",
   "execution_count": 56,
   "id": "97421756-f050-42f9-bee5-0286a638ea34",
   "metadata": {},
   "outputs": [
    {
     "name": "stdout",
     "output_type": "stream",
     "text": [
      "Accuracy of SVC():0.925\n"
     ]
    }
   ],
   "source": [
    "#support vector machine \n",
    "\n",
    "svm = SVC(kernel='rbf', C=1.0)\n",
    "model(svm)\n"
   ]
  },
  {
   "cell_type": "code",
   "execution_count": 57,
   "id": "a5dae3cc-c071-4b13-a9c0-400975ac3738",
   "metadata": {},
   "outputs": [
    {
     "name": "stdout",
     "output_type": "stream",
     "text": [
      "Accuracy of GaussianNB():0.9375\n"
     ]
    }
   ],
   "source": [
    "#Naive Bayes\n",
    "\n",
    "nb_classifirs = GaussianNB()\n",
    "model(nb_classifirs)"
   ]
  },
  {
   "cell_type": "code",
   "execution_count": 58,
   "id": "ddee95bd-e5c2-4239-8469-b0b97676fcad",
   "metadata": {},
   "outputs": [
    {
     "name": "stdout",
     "output_type": "stream",
     "text": [
      "Accuracy of DecisionTreeClassifier():0.8375\n"
     ]
    }
   ],
   "source": [
    "#decision tree\n",
    "\n",
    "clf = DecisionTreeClassifier()\n",
    "model(clf)\n"
   ]
  },
  {
   "cell_type": "code",
   "execution_count": 59,
   "id": "a997daaa-00f7-4948-96b5-c609d2f74244",
   "metadata": {},
   "outputs": [
    {
     "name": "stdout",
     "output_type": "stream",
     "text": [
      "Accuracy of LogisticRegression():0.8875\n"
     ]
    }
   ],
   "source": [
    "#Logestic Regression\n",
    "\n",
    "lr  =  LogisticRegression()\n",
    "\n",
    "model(lr)"
   ]
  },
  {
   "cell_type": "code",
   "execution_count": 63,
   "id": "47d84e9a-d790-4848-ab4a-3f3834a2662b",
   "metadata": {},
   "outputs": [
    {
     "name": "stdout",
     "output_type": "stream",
     "text": [
      "Accuracy of KNeighborsClassifier(n_neighbors=3):0.9125\n"
     ]
    }
   ],
   "source": [
    "#knearest neibors\n",
    "knn_c= KNeighborsClassifier(n_neighbors=3)\n",
    "\n",
    "model(knn_c)"
   ]
  },
  {
   "cell_type": "code",
   "execution_count": 71,
   "id": "ba343840-f9c7-49ab-874d-defc569c0e55",
   "metadata": {},
   "outputs": [],
   "source": [
    "from sklearn.model_selection import GridSearchCV\n",
    "\n",
    "params_dc = { \n",
    "              \"criterion\":['gini','entropy'],\n",
    "              \"max_depth\":[1,2,3,4,5,6,7]\n",
    "            }\n",
    "\n",
    "params_svm = {\n",
    "\n",
    "                \"kernel\":['linear','poly','rbf','sigmoid'],\n",
    "                \"C\":[1,10,100,50,5]\n",
    "        }\n",
    "\n",
    "params_neigh = {\n",
    "                \"n_neighbors\":[3,5,7,9],\n",
    "\n",
    "}\n",
    "\n",
    "\n",
    "            "
   ]
  },
  {
   "cell_type": "code",
   "execution_count": 72,
   "id": "8b06ba61-be1b-49b0-89d4-c25fac51dc5f",
   "metadata": {},
   "outputs": [],
   "source": [
    "def GridCv(model,dict):\n",
    "    grid = GridSearchCV(model,param_grid=dict,cv=10,n_jobs =-1)\n",
    "    grid.fit(x_train,y_train)\n",
    "    print(f\"Best Estimator:{grid.best_estimator_}\")\n",
    "    print(f\"Best accuracy:{grid.best_score_}\")\n",
    "    print(f\"Best parameter:{grid.best_params_}\")"
   ]
  },
  {
   "cell_type": "code",
   "execution_count": 73,
   "id": "9e9ae946-c3ed-44ad-b4dc-7c39e876202d",
   "metadata": {},
   "outputs": [
    {
     "name": "stdout",
     "output_type": "stream",
     "text": [
      "Best Estimator:SVC(C=5)\n",
      "Best accuracy:0.909375\n",
      "Best parameter:{'C': 5, 'kernel': 'rbf'}\n"
     ]
    }
   ],
   "source": [
    "#svm\n",
    "GridCv(svm,params_svm)"
   ]
  },
  {
   "cell_type": "code",
   "execution_count": 74,
   "id": "4d031780-ab4d-48cc-a8b0-ba07c71b5351",
   "metadata": {},
   "outputs": [
    {
     "name": "stdout",
     "output_type": "stream",
     "text": [
      "Best Estimator:DecisionTreeClassifier(max_depth=2)\n",
      "Best accuracy:0.9125\n",
      "Best parameter:{'criterion': 'gini', 'max_depth': 2}\n"
     ]
    }
   ],
   "source": [
    "#decision tree\n",
    "GridCv(clf,params_dc)"
   ]
  },
  {
   "cell_type": "code",
   "execution_count": 75,
   "id": "297aa36b-a738-4199-a43d-9ec3337ac18e",
   "metadata": {},
   "outputs": [
    {
     "name": "stdout",
     "output_type": "stream",
     "text": [
      "Best Estimator:KNeighborsClassifier(n_neighbors=7)\n",
      "Best accuracy:0.915625\n",
      "Best parameter:{'n_neighbors': 7}\n"
     ]
    }
   ],
   "source": [
    "#k nearest \n",
    "GridCv(knn_c,params_neigh)"
   ]
  },
  {
   "cell_type": "code",
   "execution_count": null,
   "id": "29daaf2f-9de1-4101-869c-ebf7004ce6c2",
   "metadata": {},
   "outputs": [],
   "source": []
  }
 ],
 "metadata": {
  "kernelspec": {
   "display_name": "Python 3 (ipykernel)",
   "language": "python",
   "name": "python3"
  },
  "language_info": {
   "codemirror_mode": {
    "name": "ipython",
    "version": 3
   },
   "file_extension": ".py",
   "mimetype": "text/x-python",
   "name": "python",
   "nbconvert_exporter": "python",
   "pygments_lexer": "ipython3",
   "version": "3.11.4"
  }
 },
 "nbformat": 4,
 "nbformat_minor": 5
}
