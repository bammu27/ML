{
  "nbformat": 4,
  "nbformat_minor": 0,
  "metadata": {
    "colab": {
      "provenance": [],
      "authorship_tag": "ABX9TyOl70qTuUeNMkHiQUyeaUo6",
      "include_colab_link": true
    },
    "kernelspec": {
      "name": "python3",
      "display_name": "Python 3"
    },
    "language_info": {
      "name": "python"
    }
  },
  "cells": [
    {
      "cell_type": "markdown",
      "metadata": {
        "id": "view-in-github",
        "colab_type": "text"
      },
      "source": [
        "<a href=\"https://colab.research.google.com/github/bammu27/ML/blob/main/knn.ipynb\" target=\"_parent\"><img src=\"https://colab.research.google.com/assets/colab-badge.svg\" alt=\"Open In Colab\"/></a>"
      ]
    },
    {
      "cell_type": "markdown",
      "source": [
        "# **K nearest Neighbor:-**"
      ],
      "metadata": {
        "id": "LtYzzO7lrNKY"
      }
    },
    {
      "cell_type": "code",
      "source": [
        "import numpy as np\n",
        "import pandas as pd\n",
        "\n",
        "def euclidean_distance(x, y):\n",
        "    return np.sqrt(np.sum((x - y) ** 2))\n",
        "\n",
        "def generate_data(n):\n",
        "    return pd.DataFrame({\n",
        "        'imdb': np.random.randint(3, 10, n),\n",
        "        'no_vote': np.random.randint(1, 1000, n),\n",
        "        'genre': np.random.choice(['Action', 'Comedy'], n)\n",
        "    })\n",
        "\n",
        "def calculate_distances(test, train):\n",
        "    return np.sqrt(np.sum((np.array(test)[:, np.newaxis, :] - np.array(train)[np.newaxis, :, :]) ** 2, axis=2))\n",
        "\n",
        "def get_k_neighbors_indices(distances, k):\n",
        "    return np.argsort(distances, axis=1)[:, :k]\n",
        "\n",
        "from collections import Counter\n",
        "\n",
        "def find_mode(sublist):\n",
        "    counts = Counter(sublist)\n",
        "    mode_values = counts.most_common()\n",
        "\n",
        "    if len(mode_values) == 1 or mode_values[0][1] > mode_values[1][1]:\n",
        "        return mode_values[0][0], mode_values[0][1]\n",
        "    else:\n",
        "        return \"No unique mode\", 0\n",
        "\n",
        "def main():\n",
        "    # Example usage\n",
        "    np.random.seed(42)  # for reproducibility\n",
        "    test_input = generate_data(5)\n",
        "    input_data = generate_data(10)\n",
        "    target_train = generate_data(10)\n",
        "\n",
        "    distances = calculate_distances(test_input[['imdb', 'no_vote']], input_data[['imdb', 'no_vote']])\n",
        "    k_neighbors_indices = get_k_neighbors_indices(distances, k=3)\n",
        "\n",
        "    genre_list = target_train.iloc[k_neighbors_indices.flatten()]['genre'].tolist()\n",
        "    genre_list = np.array(genre_list).reshape(k_neighbors_indices.shape)\n",
        "\n",
        "    print(\"Genre List:\")\n",
        "    print(genre_list)\n",
        "\n",
        "    result = [find_mode(sublist) for sublist in genre_list]\n",
        "\n",
        "    for i, (mode_genre, count) in enumerate(result, start=1):\n",
        "        print(f\"List {i}: Mode Genre: {mode_genre}, Count: {count}\")\n",
        "\n",
        "\n",
        "main()\n"
      ],
      "metadata": {
        "colab": {
          "base_uri": "https://localhost:8080/"
        },
        "id": "2T9IetT8rS5Y",
        "outputId": "48ec1bed-30b2-46ac-88d1-d3cc5d147a2a"
      },
      "execution_count": 84,
      "outputs": [
        {
          "output_type": "stream",
          "name": "stdout",
          "text": [
            "Genre List:\n",
            "[['Comedy' 'Action' 'Comedy']\n",
            " ['Comedy' 'Action' 'Comedy']\n",
            " ['Comedy' 'Action' 'Comedy']\n",
            " ['Comedy' 'Comedy' 'Action']\n",
            " ['Action' 'Comedy' 'Comedy']]\n",
            "List 1: Mode Genre: Comedy, Count: 2\n",
            "List 2: Mode Genre: Comedy, Count: 2\n",
            "List 3: Mode Genre: Comedy, Count: 2\n",
            "List 4: Mode Genre: Comedy, Count: 2\n",
            "List 5: Mode Genre: Comedy, Count: 2\n"
          ]
        }
      ]
    },
    {
      "cell_type": "code",
      "source": [],
      "metadata": {
        "id": "unnfFeWwrYNW"
      },
      "execution_count": null,
      "outputs": []
    }
  ]
}